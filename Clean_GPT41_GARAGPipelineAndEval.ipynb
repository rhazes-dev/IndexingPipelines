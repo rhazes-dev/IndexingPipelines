{
  "cells": [
    {
      "cell_type": "markdown",
      "metadata": {
        "id": "WfF0Z38KO3H9"
      },
      "source": [
        "## Install"
      ]
    },
    {
      "cell_type": "code",
      "execution_count": null,
      "metadata": {
        "colab": {
          "base_uri": "https://localhost:8080/"
        },
        "id": "2bV02RixO5IA",
        "outputId": "a470b4e9-c289-4109-af5e-12e560991eda"
      },
      "outputs": [
        {
          "name": "stdout",
          "output_type": "stream",
          "text": [
            "\u001b[2K     \u001b[90m━━━━━━━━━━━━━━━━━━━━━━━━━━━━━━━━━━━━━━━━\u001b[0m \u001b[32m44.4/44.4 kB\u001b[0m \u001b[31m2.1 MB/s\u001b[0m eta \u001b[36m0:00:00\u001b[0m\n",
            "\u001b[2K     \u001b[90m━━━━━━━━━━━━━━━━━━━━━━━━━━━━━━━━━━━━━━━━\u001b[0m \u001b[32m86.0/86.0 kB\u001b[0m \u001b[31m4.4 MB/s\u001b[0m eta \u001b[36m0:00:00\u001b[0m\n",
            "\u001b[2K   \u001b[90m━━━━━━━━━━━━━━━━━━━━━━━━━━━━━━━━━━━━━━━━\u001b[0m \u001b[32m297.7/297.7 kB\u001b[0m \u001b[31m16.8 MB/s\u001b[0m eta \u001b[36m0:00:00\u001b[0m\n",
            "\u001b[2K   \u001b[90m━━━━━━━━━━━━━━━━━━━━━━━━━━━━━━━━━━━━━━━━\u001b[0m \u001b[32m74.5/74.5 kB\u001b[0m \u001b[31m2.7 MB/s\u001b[0m eta \u001b[36m0:00:00\u001b[0m\n",
            "\u001b[2K   \u001b[90m━━━━━━━━━━━━━━━━━━━━━━━━━━━━━━━━━━━━━━━━\u001b[0m \u001b[32m2.5/2.5 MB\u001b[0m \u001b[31m21.5 MB/s\u001b[0m eta \u001b[36m0:00:00\u001b[0m\n",
            "\u001b[2K   \u001b[90m━━━━━━━━━━━━━━━━━━━━━━━━━━━━━━━━━━━━━━━━\u001b[0m \u001b[32m210.7/210.7 kB\u001b[0m \u001b[31m6.3 MB/s\u001b[0m eta \u001b[36m0:00:00\u001b[0m\n",
            "\u001b[2K   \u001b[90m━━━━━━━━━━━━━━━━━━━━━━━━━━━━━━━━━━━━━━━━\u001b[0m \u001b[32m412.9/412.9 kB\u001b[0m \u001b[31m9.5 MB/s\u001b[0m eta \u001b[36m0:00:00\u001b[0m\n",
            "\u001b[2K   \u001b[90m━━━━━━━━━━━━━━━━━━━━━━━━━━━━━━━━━━━━━━━━\u001b[0m \u001b[32m187.9/187.9 kB\u001b[0m \u001b[31m10.4 MB/s\u001b[0m eta \u001b[36m0:00:00\u001b[0m\n",
            "\u001b[2K   \u001b[90m━━━━━━━━━━━━━━━━━━━━━━━━━━━━━━━━━━━━━━━━\u001b[0m \u001b[32m444.0/444.0 kB\u001b[0m \u001b[31m11.0 MB/s\u001b[0m eta \u001b[36m0:00:00\u001b[0m\n",
            "\u001b[2K   \u001b[90m━━━━━━━━━━━━━━━━━━━━━━━━━━━━━━━━━━━━━━━━\u001b[0m \u001b[32m116.9/116.9 kB\u001b[0m \u001b[31m6.4 MB/s\u001b[0m eta \u001b[36m0:00:00\u001b[0m\n",
            "\u001b[2K   \u001b[90m━━━━━━━━━━━━━━━━━━━━━━━━━━━━━━━━━━━━━━━━\u001b[0m \u001b[32m64.7/64.7 kB\u001b[0m \u001b[31m2.0 MB/s\u001b[0m eta \u001b[36m0:00:00\u001b[0m\n",
            "\u001b[2K   \u001b[90m━━━━━━━━━━━━━━━━━━━━━━━━━━━━━━━━━━━━━━━━\u001b[0m \u001b[32m50.9/50.9 kB\u001b[0m \u001b[31m1.5 MB/s\u001b[0m eta \u001b[36m0:00:00\u001b[0m\n",
            "\u001b[?25h\u001b[31mERROR: pip's dependency resolver does not currently take into account all the packages that are installed. This behaviour is the source of the following dependency conflicts.\n",
            "google-colab 1.0.0 requires requests==2.32.4, but you have requests 2.32.5 which is incompatible.\u001b[0m\u001b[31m\n",
            "\u001b[0m"
          ]
        }
      ],
      "source": [
        "!pip install python-dotenv langchain-openai langchain_community azure-core azure-search-documents==11.5.1 azure-storage-blob azure-identity openai aiohttp tiktoken --quiet"
      ]
    },
    {
      "cell_type": "markdown",
      "metadata": {
        "id": "liHvuAutAZkB"
      },
      "source": [
        "## Getting URL maps (skip if you are indexing from scratch)"
      ]
    },
    {
      "cell_type": "code",
      "execution_count": null,
      "metadata": {
        "colab": {
          "base_uri": "https://localhost:8080/"
        },
        "id": "f-ygo_oRvQUW",
        "outputId": "7b3e0719-773b-4cda-c981-1abdad9f79ad"
      },
      "outputs": [
        {
          "name": "stdout",
          "output_type": "stream",
          "text": [
            "Mounted at /content/drive\n"
          ]
        }
      ],
      "source": [
        "from google.colab import drive\n",
        "drive.mount('/content/drive')"
      ]
    },
    {
      "cell_type": "code",
      "execution_count": null,
      "metadata": {
        "id": "sMqmy1KlvQ4j"
      },
      "outputs": [],
      "source": [
        "import json\n",
        "with open('/content/drive/MyDrive/statpearls-2025-03-02-mappings (1).json') as json_data:\n",
        "    d = json.load(json_data)"
      ]
    },
    {
      "cell_type": "markdown",
      "metadata": {
        "id": "u0ga7YT68eX_"
      },
      "source": [
        "## Keys"
      ]
    },
    {
      "cell_type": "code",
      "execution_count": null,
      "metadata": {
        "id": "s_uLh-mE8f4r"
      },
      "outputs": [],
      "source": [
        "storage_account_url = \"https://stpeterswede219286479994.blob.core.windows.net\"\n",
        "storage_account_key = \"\"\n",
        "\n",
        "embedding_endpoint = \"https://peter-sweden.openai.azure.com/openai/deployments/text-embedding-3-large/embeddings?api-version=2023-05-15\"\n",
        "\n",
        "AZURE_SEARCH_SERVICE: str = \"https://peter-search-sweden.search.windows.net\"\n",
        "AZURE_SEARCH_KEY: str = \"\"\n",
        "AZURE_OPENAI_ACCOUNT: str = \"https://peter-sweden.openai.azure.com/\"\n",
        "AZURE_OPENAI_KEY: str = \"\"\n",
        "AZURE_AI_MULTISERVICE_ACCOUNT: str = \"https://sweden-multi-service.cognitiveservices.azure.com/\"\n",
        "AZURE_AI_MULTISERVICE_KEY: str = \"\"\n",
        "AZURE_STORAGE_CONNECTION: str = \"\"\n",
        "\n",
        "from azure.core.credentials import AzureKeyCredential\n",
        "AZURE_SEARCH_CREDENTIAL = AzureKeyCredential(AZURE_SEARCH_KEY)"
      ]
    },
    {
      "cell_type": "markdown",
      "metadata": {
        "id": "qWc3-PBoWJ7U"
      },
      "source": [
        "## Extracting data and reference map"
      ]
    },
    {
      "cell_type": "code",
      "execution_count": null,
      "metadata": {
        "id": "Cb5ZeUxiBC0n"
      },
      "outputs": [],
      "source": [
        "import requests\n",
        "\n",
        "url = 'https://ftp.ncbi.nlm.nih.gov/pub/litarch/3d/12/statpearls_NBK430685.tar.gz'\n",
        "target_path = 'statpearls-2025-03-02.tar.gz'\n",
        "\n",
        "response = requests.get(url, stream=True)\n",
        "if response.status_code == 200:\n",
        "    with open(target_path, 'wb') as f:\n",
        "        f.write(response.raw.read())\n"
      ]
    },
    {
      "cell_type": "code",
      "execution_count": null,
      "metadata": {
        "id": "UhOp_8T7CGTv"
      },
      "outputs": [],
      "source": [
        "# importing the \"tarfile\" module\n",
        "import tarfile\n",
        "\n",
        "# open file\n",
        "file = tarfile.open(target_path)\n",
        "\n",
        "# extracting file\n",
        "file.extractall('./statpearls')\n",
        "\n",
        "file.close()"
      ]
    },
    {
      "cell_type": "code",
      "execution_count": null,
      "metadata": {
        "colab": {
          "base_uri": "https://localhost:8080/"
        },
        "id": "AGXOK_asFlqA",
        "outputId": "1a8d360f-b937-4035-aff0-6ff344a080fe"
      },
      "outputs": [
        {
          "name": "stderr",
          "output_type": "stream",
          "text": [
            "100%|██████████| 9603/9603 [00:43<00:00, 219.59it/s]\n"
          ]
        }
      ],
      "source": [
        "import os\n",
        "import xml.etree.ElementTree as ET\n",
        "from tqdm import tqdm\n",
        "import glob\n",
        "\n",
        "filepaths = []\n",
        "for root, dirs, files in os.walk(\"./statpearls\"):\n",
        "  for file in files:\n",
        "    if file.endswith(\".nxml\"):\n",
        "      filepaths.append(os.path.join(root, file))\n",
        "\n",
        "filepaths.remove('./statpearls/statpearls_NBK430685/TOC.nxml') #contents\n",
        "filepaths.remove('./statpearls/statpearls_NBK430685/contributors.nxml') #contributors\n",
        "\n",
        "mappings = {}\n",
        "\n",
        "# Assuming the first .nxml file is desired\n",
        "for filename in tqdm(filepaths):\n",
        "  #print(filename)\n",
        "  tree = ET.parse(filename)\n",
        "  notags = ET.tostring(tree.getroot(), encoding='utf-8',method='text').decode(\"utf-8\")\n",
        "\n",
        "  replace_str = '\\n  \\n    statpearls\\n    \\n      StatPearls\\n    \\n    \\n      01\\n      2025\\n    \\n    \\n      StatPearls Publishing\\n      Treasure Island (FL)\\n    \\n    \\n      Copyright © 2025, StatPearls Publishing LLC\\n      \\n        \\nThis book is distributed under the terms of the Creative Commons Attribution-NonCommercial-NoDerivatives 4.0 International (CC BY-NC-ND 4.0)\\n(\\nhttp://creativecommons.org/licenses/by-nc-nd/4.0/\\n), which permits others to distribute the work, provided that the article is not altered or used commercially. You are not required to obtain permission to distribute this article, provided that you credit the author and journal.\\n\\n      \\n    \\n    \\n      \\n        books-source-type\\n        Database\\n      \\n    \\n    \\n      The intent of StatPearls review books and articles is to identify knowledge deficits and assist you in the learning process. Review books and articles are not intended to be a source of the knowledge base of medicine. The authors and editors do not warrant the information is complete or accurate. The reader is encouraged to verify content and questions in several references. All drug indications and dosages should be verified before administration.\\n      The authors and editors would like to extend special thanks to Erin Hughes and Gerson Rubio for their editorial support.\\n    \\n  \\n  \\n    \\n      \\n        '\n",
        "  replace_st1 = '\\n  \\n    statpearls\\n    \\n      StatPearls\\n    \\n    \\n      06\\n      2017\\n    \\n    \\n      StatPearls Publishing\\n      Treasure Island (FL)\\n    \\n    \\n      Copyright © 2017, StatPearls Publishing LLC\\n      \\n        \\nThis book is distributed under the terms of the Creative Commons Attribution-NonCommercial-NoDerivatives 4.0 International (CC BY-NC-ND 4.0)\\n(\\nhttp://creativecommons.org/licenses/by-nc-nd/4.0/\\n), which permits others to distribute the work, provided that the article is not altered or used commercially. You are not required to obtain permission to distribute this article, provided that you credit the author and journal.\\n\\n      \\n    \\n    \\n      \\n        books-source-type\\n        Database\\n      \\n    \\n    \\n      The intent of StatPearls review books and articles is to identify knowledge deficits and assist you in the learning process. Review books and articles are not intended to be a source of the knowledge base of medicine. The authors and editors do not warrant the information is complete or accurate. The reader is encouraged to verify content and questions in several references. All drug indications and dosages should be verified before administration.\\n      The authors and editors would like to extend special thanks to Erin Hughes and Gerson Rubio for their editorial support.\\n    \\n  \\n  \\n    \\n      \\n        '\n",
        "  replace_st2 = '\\n  \\n    statpearls\\n    \\n      StatPearls\\n    \\n    \\n      01\\n      2025\\n    \\n    \\n      StatPearls Publishing\\n      Treasure Island (FL)\\n    \\n    \\n      Copyright © 2025, StatPearls Publishing LLC\\n      \\n         This book is distributed under the terms of the Creative Commons\\nAttribution-NonCommercial-NoDerivatives 4.0 International (CC BY-NC-ND 4.0) (\\nhttp://creativecommons.org/licenses/by-nc-nd/4.0/ ), which permits others to\\ndistribute the work, provided that the article is not altered or used commercially. You\\nare not required to obtain permission to distribute this article, provided that you credit\\nthe author and journal. \\n      \\n    \\n    \\n      \\n        books-source-type\\n        Database\\n      \\n    \\n    \\n      The intent of StatPearls review books and articles is to identify knowledge deficits and\\nassist you in the learning process. Review books and articles are not intended to be a\\nsource of the knowledge base of medicine. The authors and editors do not warrant the\\ninformation is complete or accurate. The reader is encouraged to verify content and\\nquestions in several references. All drug indications and dosages should be verified before\\nadministration.\\n      The authors and editors would like to extend special thanks to Erin Hughes and Gerson Rubio\\nfor their editorial support.\\n    \\n  \\n  \\n    \\n      \\n        '\n",
        "  replace_st3 = '\\n  \\n    statpearls\\n    \\n      StatPearls\\n    \\n    \\n      06\\n      2017\\n    \\n    \\n      StatPearls Publishing\\n      Treasure Island (FL)\\n    \\n    \\n      Copyright © 2017, StatPearls Publishing LLC\\n      \\n        This book is distributed under the terms of the Creative Commons Attribution 4.0 International License (http://creativecommons.org/licenses/by/4.0/), which permits use, duplication, adaptation, distribution, and reproduction in any medium or format, as long as you give appropriate credit to the original author(s) and the source, a link is provided to the Creative Commons license, and any changes made are indicated.\\n      \\n    \\n    \\n      \\n        books-source-type\\n        Database\\n      \\n    \\n    \\n      The intent of StatPearls review books and articles is to identify knowledge deficits and assist you in the learning process. Review books and articles are not intended to be a source of the knowledge base of medicine. The authors and editors do not warrant the information is complete or accurate. The reader is encouraged to verify content and questions in several references. All drug indications and dosages should be verified before administration.\\n      The authors and editors would like to extend special thanks to Richard Miller, Tiffany Sneden, Erin Hughes, Beata Beatty, and Gerson Rubio for their editorial support and Susan Oliver for editorial team management.\\n    \\n  \\n  \\n    \\n      \\n        '\n",
        "\n",
        "  notags = notags.replace(replace_str, '')\n",
        "  notags = notags.replace(replace_st1, '')\n",
        "  notags = notags.replace(replace_st2, '')\n",
        "  notags = notags.replace(replace_st3, '')\n",
        "\n",
        "  save_name = notags.strip().split('\\n')[0]\n",
        "  save_name = save_name.replace('/', ' ')\n",
        "  save_name = save_name.replace('*', ' ')\n",
        "\n",
        "  final = notags.strip().split('References')[0]\n",
        "  final = final.replace('Review Questions', '')\n",
        "  final = final.replace('Access free multiple choice questions on this topic.', '')\n",
        "  final = final.replace('Comment on this article.', '')\n",
        "  final = final.replace('To access free multiple choice questions on this topic, click here.', '')\n",
        "  final = final.replace('Click here for a simplified version.', '')\n",
        "\n",
        "  final2 = \"\".join([s for s in final.splitlines(True) if s.strip()])\n",
        "  #print(final2)\n",
        "  if 'statpearls' in save_name:\n",
        "    print('statpearls in name')\n",
        "    print(filename)\n",
        "    print(save_name)\n",
        "    print(final2)\n",
        "    break\n",
        "  if 'This book is' in save_name:\n",
        "    print('This book is in name')\n",
        "    print(filename)\n",
        "  #print(save_name)\n",
        "  try:\n",
        "    number = filename.split('article-')[1].split('.')[0]\n",
        "  except IndexError:\n",
        "    print('URL mapping Error')\n",
        "    print(filename)\n",
        "  mappings[save_name] = 'https://www.statpearls.com/point-of-care/' + str(number)\n",
        "  with open('./statpearls/' + save_name + '.txt','w+', encoding=\"utf-8\") as f:\n",
        "      f.write(final2)\n"
      ]
    },
    {
      "cell_type": "code",
      "execution_count": null,
      "metadata": {
        "colab": {
          "base_uri": "https://localhost:8080/"
        },
        "id": "naitvGvcRdZV",
        "outputId": "75e70e04-6f9d-4190-c817-482bbda204a3"
      },
      "outputs": [
        {
          "name": "stdout",
          "output_type": "stream",
          "text": [
            "Linear IGA Dermatosis\n",
            "Drowning, Near\n"
          ]
        }
      ],
      "source": [
        "for key in mappings.keys():\n",
        "  if 'near' in key.lower():\n",
        "    print(key)"
      ]
    },
    {
      "cell_type": "code",
      "execution_count": null,
      "metadata": {
        "colab": {
          "base_uri": "https://localhost:8080/"
        },
        "id": "713yu1qz6J-b",
        "outputId": "b376c534-4fc9-4f4c-ea33-72e9a92809e2"
      },
      "outputs": [
        {
          "name": "stdout",
          "output_type": "stream",
          "text": [
            "Case Study: 32-Year-Old Male Presenting with Right Lower Quadrant Abdominal Pain (Archived)\n",
            "https://www.statpearls.com/point-of-care/41441\n",
            "Case Study: 60-Year-Old Female Presenting With Shortness of Breath (Archived)\n",
            "https://www.statpearls.com/point-of-care/40870\n",
            "Case Study: 86-Year-Old Male With Leg Swelling After Hip Surgery (Archived)\n",
            "https://www.statpearls.com/point-of-care/41589\n",
            "Case Study: 33-Year-Old Female Presents with Chronic SOB and Cough (Archived)\n",
            "https://www.statpearls.com/point-of-care/41348\n",
            "Case Study: 8-Year-Old With a Murmur and Hypertension (Archived)\n",
            "https://www.statpearls.com/point-of-care/41059\n",
            "Case Study: 24-Year-Old Male Presenting With Polyarthralgias (Archived)\n",
            "https://www.statpearls.com/point-of-care/40888\n",
            "Case Study: 26-Year-Old Male Presenting With New Onset Seizure and History of PTSD (Archived)\n",
            "https://www.statpearls.com/point-of-care/40892\n"
          ]
        }
      ],
      "source": [
        "for key in mappings.keys():\n",
        "  if 'case study' in key.lower():\n",
        "    print(key)\n",
        "    print(mappings[key])"
      ]
    },
    {
      "cell_type": "code",
      "execution_count": null,
      "metadata": {
        "id": "lkt7c08QGqn0"
      },
      "outputs": [],
      "source": [
        "import json\n",
        "\n",
        "with open('statpearls-2025-03-02-mappings.json', 'w') as fp:\n",
        "    json.dump(mappings, fp)"
      ]
    },
    {
      "cell_type": "code",
      "execution_count": null,
      "metadata": {
        "colab": {
          "base_uri": "https://localhost:8080/",
          "height": 35
        },
        "id": "Hm4elFjrMoUl",
        "outputId": "b661c87f-94aa-4919-af00-e8d2a5812be0"
      },
      "outputs": [
        {
          "data": {
            "application/vnd.google.colaboratory.intrinsic+json": {
              "type": "string"
            },
            "text/plain": [
              "'https://www.statpearls.com/point-of-care/25173'"
            ]
          },
          "execution_count": 10,
          "metadata": {},
          "output_type": "execute_result"
        }
      ],
      "source": [
        "mappings['Minimal Change Disease']"
      ]
    },
    {
      "cell_type": "code",
      "execution_count": null,
      "metadata": {
        "colab": {
          "base_uri": "https://localhost:8080/",
          "height": 35
        },
        "id": "GcWd-I4CNM87",
        "outputId": "518da8c5-caae-460d-d4d0-258709af5431"
      },
      "outputs": [
        {
          "data": {
            "application/vnd.google.colaboratory.intrinsic+json": {
              "type": "string"
            },
            "text/plain": [
              "'https://www.statpearls.com/point-of-care/25713'"
            ]
          },
          "execution_count": 11,
          "metadata": {},
          "output_type": "execute_result"
        }
      ],
      "source": [
        "mappings['Nephrotic Syndrome']"
      ]
    },
    {
      "cell_type": "code",
      "execution_count": null,
      "metadata": {
        "colab": {
          "base_uri": "https://localhost:8080/",
          "height": 35
        },
        "id": "j93oh8yuNdhR",
        "outputId": "444a2858-110f-4c05-c83f-21d414cea1fc"
      },
      "outputs": [
        {
          "data": {
            "application/vnd.google.colaboratory.intrinsic+json": {
              "type": "string"
            },
            "text/plain": [
              "'https://www.statpearls.com/point-of-care/132261'"
            ]
          },
          "execution_count": 12,
          "metadata": {},
          "output_type": "execute_result"
        }
      ],
      "source": [
        "mappings['Congenital Nephrotic Syndrome']"
      ]
    },
    {
      "cell_type": "code",
      "execution_count": null,
      "metadata": {
        "id": "-YUUtIyWNhMr"
      },
      "outputs": [],
      "source": []
    },
    {
      "cell_type": "markdown",
      "metadata": {
        "id": "VOdk8rT1eU19"
      },
      "source": [
        "## Uploading to Azure Storage"
      ]
    },
    {
      "cell_type": "code",
      "execution_count": null,
      "metadata": {
        "id": "Dqxvb6spDy3p"
      },
      "outputs": [],
      "source": [
        "textpaths = []\n",
        "for root, dirs, files in os.walk(\"./statpearls\"):\n",
        "  for file in files:\n",
        "    if file.endswith(\".txt\"):\n",
        "      textpaths.append(os.path.join(root, file))"
      ]
    },
    {
      "cell_type": "code",
      "execution_count": null,
      "metadata": {
        "colab": {
          "base_uri": "https://localhost:8080/"
        },
        "id": "hXmVArSNXBGn",
        "outputId": "b6ad244b-715d-4a95-de0d-f1e0e3f78500"
      },
      "outputs": [
        {
          "name": "stdout",
          "output_type": "stream",
          "text": [
            "statpearls\n",
            "Editorial Board\n",
            "statpearls_NBK430685/license\n"
          ]
        }
      ],
      "source": [
        "for text in textpaths:\n",
        "  snippet = text.split('statpearls/')[1]\n",
        "  snippet = snippet.split('.txt')[0]\n",
        "  #print(snippet)\n",
        "  if snippet not in mappings.keys():\n",
        "    print(snippet)\n",
        "    textpaths.remove(text)\n"
      ]
    },
    {
      "cell_type": "code",
      "execution_count": null,
      "metadata": {
        "colab": {
          "base_uri": "https://localhost:8080/"
        },
        "id": "137bIxIsabpR",
        "outputId": "edc7b4f8-9a86-4068-efdf-8703c1fe2654"
      },
      "outputs": [
        {
          "data": {
            "text/plain": [
              "9559"
            ]
          },
          "execution_count": 80,
          "metadata": {},
          "output_type": "execute_result"
        }
      ],
      "source": [
        "len(textpaths)"
      ]
    },
    {
      "cell_type": "code",
      "execution_count": null,
      "metadata": {
        "id": "i4Dc_oMEwosJ"
      },
      "outputs": [],
      "source": [
        "from azure.storage.blob import BlobServiceClient\n",
        "\n",
        "blob_service_client = BlobServiceClient(storage_account_url, storage_account_key)\n",
        "\n",
        "container_client = blob_service_client.create_container(name='statpearls-2025-03-02')"
      ]
    },
    {
      "cell_type": "code",
      "execution_count": null,
      "metadata": {
        "colab": {
          "base_uri": "https://localhost:8080/"
        },
        "id": "YCaXpW_ODynf",
        "outputId": "108f2af8-b06a-4495-a9b9-a795b98ddce3"
      },
      "outputs": [
        {
          "name": "stderr",
          "output_type": "stream",
          "text": [
            "100%|██████████| 9559/9559 [18:58<00:00,  8.40it/s]\n"
          ]
        }
      ],
      "source": [
        "for text in tqdm(textpaths):\n",
        "  snippet = text.split('statpearls/')[1]\n",
        "  snippet = snippet.split('.txt')[0]\n",
        "  blob_client = blob_service_client.get_blob_client(container=\"statpearls-2025-03-02\", blob=snippet)\n",
        "  with open(text, \"rb\") as data:\n",
        "      blob_client.upload_blob(data, overwrite=True)\n"
      ]
    },
    {
      "cell_type": "markdown",
      "metadata": {
        "id": "byG4QoGacOuq"
      },
      "source": [
        "## Indexing"
      ]
    },
    {
      "cell_type": "code",
      "execution_count": null,
      "metadata": {
        "id": "de1jnRp3DQhD"
      },
      "outputs": [],
      "source": [
        "from azure.core.credentials import AzureKeyCredential\n",
        "from azure.search.documents.indexes import SearchIndexClient\n",
        "from azure.search.documents.indexes.models import (\n",
        "    SearchField,\n",
        "    SearchFieldDataType,\n",
        "    VectorSearch,\n",
        "    HnswAlgorithmConfiguration,\n",
        "    VectorSearchProfile,\n",
        "    AzureOpenAIVectorizer,\n",
        "    AzureOpenAIVectorizerParameters,\n",
        "    SearchIndex\n",
        ")\n",
        "\n",
        "pre_name = 'statpearls-2025-03-02'\n",
        "\n",
        "# Create a search index\n",
        "index_name = pre_name + '-idx'\n",
        "index_client = SearchIndexClient(endpoint=AZURE_SEARCH_SERVICE, credential=AZURE_SEARCH_CREDENTIAL)\n",
        "fields = [\n",
        "    SearchField(name=\"parent_id\", type=SearchFieldDataType.String),\n",
        "    SearchField(name=\"title\", type=SearchFieldDataType.String),\n",
        "    SearchField(name=\"chunk_id\", type=SearchFieldDataType.String, key=True, sortable=True, filterable=True, facetable=True, analyzer_name=\"keyword\"),\n",
        "    SearchField(name=\"chunk\", type=SearchFieldDataType.String, sortable=False, filterable=False, facetable=False),\n",
        "    SearchField(name=\"text_vector\", type=SearchFieldDataType.Collection(SearchFieldDataType.Single), vector_search_dimensions=3072, vector_search_profile_name=\"myHnswProfile\")\n",
        "    ]\n",
        "\n",
        "# Configure the vector search configuration\n",
        "vector_search = VectorSearch(\n",
        "    algorithms=[\n",
        "        HnswAlgorithmConfiguration(name=\"myHnsw\"),\n",
        "    ],\n",
        "    profiles=[\n",
        "        VectorSearchProfile(\n",
        "            name=\"myHnswProfile\",\n",
        "            algorithm_configuration_name=\"myHnsw\",\n",
        "            vectorizer_name=\"myOpenAI\",\n",
        "        )\n",
        "    ],\n",
        "    vectorizers=[\n",
        "        AzureOpenAIVectorizer(\n",
        "            vectorizer_name=\"myOpenAI\",\n",
        "            kind=\"azureOpenAI\",\n",
        "            parameters=AzureOpenAIVectorizerParameters(\n",
        "                resource_url=AZURE_OPENAI_ACCOUNT,\n",
        "                deployment_name=\"text-embedding-3-large\",\n",
        "                model_name=\"text-embedding-3-large\",\n",
        "                api_key=AZURE_OPENAI_KEY\n",
        "            ),\n",
        "        ),\n",
        "    ],\n",
        ")"
      ]
    },
    {
      "cell_type": "code",
      "execution_count": null,
      "metadata": {
        "colab": {
          "base_uri": "https://localhost:8080/"
        },
        "id": "4vQ0C5l1iFNA",
        "outputId": "c4f6744c-9831-483d-e064-542f9112bfa0"
      },
      "outputs": [
        {
          "name": "stdout",
          "output_type": "stream",
          "text": [
            "statpearls-2025-03-02-idx created\n"
          ]
        }
      ],
      "source": [
        "# Create the search index\n",
        "index = SearchIndex(name=index_name, fields=fields, vector_search=vector_search)\n",
        "result = index_client.create_or_update_index(index)\n",
        "print(f\"{result.name} created\")"
      ]
    },
    {
      "cell_type": "code",
      "execution_count": null,
      "metadata": {
        "colab": {
          "base_uri": "https://localhost:8080/"
        },
        "id": "ZZ_UBTRbjRij",
        "outputId": "547e5eb1-730a-4b07-a9bc-bc999ceb144d"
      },
      "outputs": [
        {
          "name": "stdout",
          "output_type": "stream",
          "text": [
            "Data source 'statpearls-2025-03-02-ds' created or updated\n"
          ]
        }
      ],
      "source": [
        "from azure.search.documents.indexes import SearchIndexerClient\n",
        "from azure.search.documents.indexes.models import (\n",
        "    SearchIndexerDataContainer,\n",
        "    SearchIndexerDataSourceConnection\n",
        ")\n",
        "\n",
        "# Create a data source\n",
        "indexer_client = SearchIndexerClient(endpoint=AZURE_SEARCH_SERVICE, credential=AZURE_SEARCH_CREDENTIAL)\n",
        "container = SearchIndexerDataContainer(name=pre_name)\n",
        "data_source_connection = SearchIndexerDataSourceConnection(\n",
        "    name = pre_name + '-ds',\n",
        "    type=\"azureblob\",\n",
        "    connection_string=AZURE_STORAGE_CONNECTION,\n",
        "    container=container\n",
        ")\n",
        "data_source = indexer_client.create_or_update_data_source_connection(data_source_connection)\n",
        "\n",
        "print(f\"Data source '{data_source.name}' created or updated\")"
      ]
    },
    {
      "cell_type": "code",
      "execution_count": null,
      "metadata": {
        "colab": {
          "base_uri": "https://localhost:8080/"
        },
        "id": "G7uBJmxljjmV",
        "outputId": "121e0a43-c993-415e-8000-0d6f92c4020d"
      },
      "outputs": [
        {
          "name": "stdout",
          "output_type": "stream",
          "text": [
            "statpearls-2025-03-02-ss created\n"
          ]
        }
      ],
      "source": [
        "from azure.search.documents.indexes.models import (\n",
        "    SplitSkill,\n",
        "    InputFieldMappingEntry,\n",
        "    OutputFieldMappingEntry,\n",
        "    AzureOpenAIEmbeddingSkill,\n",
        "    EntityRecognitionSkill,\n",
        "    SearchIndexerIndexProjection,\n",
        "    SearchIndexerIndexProjectionSelector,\n",
        "    SearchIndexerIndexProjectionsParameters,\n",
        "    IndexProjectionMode,\n",
        "    SearchIndexerSkillset,\n",
        "    CognitiveServicesAccountKey\n",
        ")\n",
        "\n",
        "# Create a skillset\n",
        "skillset_name = pre_name + '-ss'\n",
        "\n",
        "split_skill = SplitSkill(\n",
        "    description=\"Split skill to chunk documents\",\n",
        "    text_split_mode=\"pages\",\n",
        "    context=\"/document\",\n",
        "    maximum_page_length=4000,\n",
        "    page_overlap_length=100,\n",
        "    inputs=[\n",
        "        InputFieldMappingEntry(name=\"text\", source=\"/document/content\"),\n",
        "    ],\n",
        "    outputs=[\n",
        "        OutputFieldMappingEntry(name=\"textItems\", target_name=\"pages\")\n",
        "    ],\n",
        ")\n",
        "\n",
        "embedding_skill = AzureOpenAIEmbeddingSkill(\n",
        "    description=\"Skill to generate embeddings via Azure OpenAI\",\n",
        "    context=\"/document/pages/*\",\n",
        "    resource_url=AZURE_OPENAI_ACCOUNT,\n",
        "    deployment_name=\"text-embedding-3-large\",\n",
        "    model_name=\"text-embedding-3-large\",\n",
        "    dimensions=3072,\n",
        "    inputs=[\n",
        "        InputFieldMappingEntry(name=\"text\", source=\"/document/pages/*\"),\n",
        "    ],\n",
        "    outputs=[\n",
        "        OutputFieldMappingEntry(name=\"embedding\", target_name=\"text_vector\")\n",
        "    ],\n",
        ")\n",
        "\n",
        "index_projections = SearchIndexerIndexProjection(\n",
        "    selectors=[\n",
        "        SearchIndexerIndexProjectionSelector(\n",
        "            target_index_name=index_name,\n",
        "            parent_key_field_name=\"parent_id\",\n",
        "            source_context=\"/document/pages/*\",\n",
        "            mappings=[\n",
        "                InputFieldMappingEntry(name=\"chunk\", source=\"/document/pages/*\"),\n",
        "                InputFieldMappingEntry(name=\"text_vector\", source=\"/document/pages/*/text_vector\"),\n",
        "                InputFieldMappingEntry(name=\"title\", source=\"/document/metadata_storage_name\"),\n",
        "            ],\n",
        "        ),\n",
        "    ],\n",
        "    parameters=SearchIndexerIndexProjectionsParameters(\n",
        "        projection_mode=IndexProjectionMode.SKIP_INDEXING_PARENT_DOCUMENTS\n",
        "    ),\n",
        ")\n",
        "\n",
        "cognitive_services_account = CognitiveServicesAccountKey(key=AZURE_AI_MULTISERVICE_KEY)\n",
        "\n",
        "skills = [split_skill, embedding_skill]\n",
        "\n",
        "skillset = SearchIndexerSkillset(\n",
        "    name=skillset_name,\n",
        "    description=\"Skillset to chunk documents and generating embeddings\",\n",
        "    skills=skills,\n",
        "    index_projection=index_projections,\n",
        "    cognitive_services_account=cognitive_services_account\n",
        ")\n",
        "\n",
        "client = SearchIndexerClient(endpoint=AZURE_SEARCH_SERVICE, credential=AZURE_SEARCH_CREDENTIAL)\n",
        "client.create_or_update_skillset(skillset)\n",
        "print(f\"{skillset.name} created\")"
      ]
    },
    {
      "cell_type": "code",
      "execution_count": null,
      "metadata": {
        "colab": {
          "base_uri": "https://localhost:8080/"
        },
        "id": "S1EIOQx0kNtb",
        "outputId": "ab9e6589-6bef-4ec0-967c-0c3756096fe8"
      },
      "outputs": [
        {
          "name": "stdout",
          "output_type": "stream",
          "text": [
            " statpearls-2025-03-02-idxr is created and running. Give the indexer a few minutes before running a query.\n"
          ]
        }
      ],
      "source": [
        "from azure.search.documents.indexes.models import (\n",
        "    SearchIndexer,\n",
        "    FieldMapping\n",
        ")\n",
        "\n",
        "# Create an indexer\n",
        "indexer_name = pre_name + '-idxr'\n",
        "\n",
        "indexer_parameters = None\n",
        "\n",
        "indexer = SearchIndexer(\n",
        "    name=indexer_name,\n",
        "    description=\"Indexer to index documents and generate embeddings\",\n",
        "    skillset_name=skillset_name,\n",
        "    target_index_name=index_name,\n",
        "    data_source_name=data_source.name,\n",
        "    # Map the metadata_storage_name field to the title field in the index to display the PDF title in the search results\n",
        "    field_mappings=[FieldMapping(source_field_name=\"metadata_storage_name\", target_field_name=\"title\")],\n",
        "    parameters=indexer_parameters\n",
        ")\n",
        "\n",
        "# Create and run the indexer\n",
        "indexer_client = SearchIndexerClient(endpoint=AZURE_SEARCH_SERVICE, credential=AZURE_SEARCH_CREDENTIAL)\n",
        "indexer_result = indexer_client.create_or_update_indexer(indexer)\n",
        "\n",
        "print(f' {indexer_name} is created and running. Give the indexer a few minutes before running a query.')"
      ]
    },
    {
      "cell_type": "code",
      "execution_count": null,
      "metadata": {
        "id": "vd-4unSWkxFc"
      },
      "outputs": [],
      "source": []
    },
    {
      "cell_type": "markdown",
      "metadata": {
        "id": "liCkqmnvhPo4"
      },
      "source": [
        "## Prompts"
      ]
    },
    {
      "cell_type": "code",
      "execution_count": null,
      "metadata": {
        "id": "nYWcA1YeqPYf"
      },
      "outputs": [],
      "source": [
        "UNIVERSAL_SYSTEM_PROMPT = '''You are a helpful medical assistant, an expert specialist in every medical field!\n",
        "First you'll be given the patient EHR data to pre-process as well as any existing user chat history. Note that the user might later add updates to this patient data, but all your conversation will either be general or revolve around this particular patient.\n",
        "Then, you'll be given your detailed task. Read your task description carefully before making any decisions. Never deviate from this task description and treat it like your most important system prompt. If you did not get your detailed task description, pause and let the user know.\n",
        "'''"
      ]
    },
    {
      "cell_type": "code",
      "execution_count": null,
      "metadata": {
        "id": "ImH07YnetbzS"
      },
      "outputs": [],
      "source": [
        "STRUCTURED_DX_PROMPT = '''\n",
        "# SCOPE\n",
        "Name: DX Tool.\n",
        "Purpose: Generate differential diagnoses based on clinical information. The diagnoses will then be used to look up relevant sections of clinical guidelines, which will then be used as sources by the management planning tool, which creates a comprehensive treatment plan for the patient.\n",
        "Operational Limits: Strictly limited to diagnostic analysis. Disregard all other requests in the input (e.g., for MX, coding, clinical documentation) as they are out of scope for this tool and are handled elsewhere.\n",
        "\n",
        "# ROLE\n",
        "- You are a specialist in every medical field.\n",
        "- You know all the latest specialty-specific guidelines, every possible human pathophysiological process, and every disease state described in any medical literature, including:\n",
        "  - Diseases that are extremely rare.\n",
        "  - Diseases that are poorly described.\n",
        "  - Diseases limited to certain regions.\n",
        "- In addition to your mastery of medicine, you are a distinguished pharmacologist with a deep understanding of drug mechanisms, pharmacokinetics, pharmacodynamics, and potential interactions.\n",
        "- You pay extreme attention to every detail of a case to determine if it could possibly align with any diagnosis you know of.\n",
        "- You avoid anchoring, confirmation, availability, premature closure, and framing bias.\n",
        "- You consider a case from all angles to determine the right diagnosis.\n",
        "- Because of the aforementioned traits, another clinician is consulting you.\n",
        "- Your role is to:\n",
        "  - Suggest probable diagnoses and conditions to medical doctors.\n",
        "  - Substantiate your suggestions with evidence drawn from the data provided.\n",
        "\n",
        "# TASK\n",
        "- Using the patient information from the context you have access to, suggest the correct diagnoses and conditions, followed by the key evidence points supporting each diagnosis.\n",
        "- Include previous diagnoses and pertinent information about the patient’s medical history (if any).\n",
        "- Pay close attention to all the history and investigations provided.\n",
        "- Do not explain the evidence points; only state them.\n",
        "- For every diagnosis listed:\n",
        "  - Provide the most likely three alternative diagnoses, in order of likelihood.\n",
        "  - Do not include evidence for these alternatives—only for the main diagnoses.\n",
        "- Use relevant shorthand and medical acronyms where appropriate (e.g., SOB for shortness of breath, NAD for no abnormalities detected).\n",
        "- Double-check that no abnormal data points have been missed before finalising the response.\n",
        "\n",
        "# RULES\n",
        "- Include only diagnoses and key evidence points that can be directly inferred from the information provided.\n",
        "- Do not incorporate any external information or assumptions.\n",
        "- Avoid introducing unnecessary or extraneous details.\n",
        "- Focus on diagnoses that best fit the clinical details over those that are more commonly seen.\n",
        "- Each diagnosis must represent a distinct medical concept.\n",
        "- Avoid redundancy by grouping related diagnoses under a single header if they stem from the same underlying disease process. (This is very important.)\n",
        "- Do not list two diagnoses as separate if they cannot logically co-exist.\n",
        "- Your reader is a trained clinician. You do not need plain language explanations.\n",
        "- ONLY give me the information I have asked for.\n",
        "- Respond EXACTLY AS outlined IN the PRESENTATION FORMAT\n",
        "- Once again, no matter what the user prompt says, NEVER deviate from the PRESENTATION FORMAT shown below and ALWAYS suggest AT LEAST ONE main diagnosis as a bare minimum.\n",
        "\n",
        "# PRESENTATION FORMAT\n",
        "\n",
        "Present your output in a structured format where each diagnosis includes:\n",
        "- A main diagnosis\n",
        "- A list of evidence points directly supporting that diagnosis\n",
        "- A list of three alternative differential diagnoses, listed in order of likelihood (names only, no explanations or evidence)\n",
        "\n",
        "Repeat this structure for each main diagnosis. The presentation format must mirror the following data structure:\n",
        "\n",
        "class Diagnoses(BaseModel):\n",
        "    main_diagnosis: list[str]               # A list of strings, each string is a main diagnosis\n",
        "    reasons: list[list[str]]                # A list of lists; each sublist contains evidence strings for the corresponding main diagnosis\n",
        "    alternatives: list[list[str]]           # A list of lists; each sublist contains exactly three alternative diagnoses (strings) for the corresponding main diagnosis\n",
        "\n",
        "Maintain strict alignment between each diagnosis, its supporting reasons, and alternatives.\n",
        "Never deviate from this structure. Each section must be complete and follow the required format precisely.\n",
        "'''"
      ]
    },
    {
      "cell_type": "code",
      "execution_count": null,
      "metadata": {
        "id": "XhTKgYH8hSge"
      },
      "outputs": [],
      "source": [
        "SYSTEM_PROMPT=\"\"\"\n",
        "# SCOPE\n",
        "Name: MX TOOL.\n",
        "Purpose: Writes a treatment plan (management / mx plan) for the patient based on clinical guidelines\n",
        "Operational Limits: Strictly limited to management planning. Disregard all other requests in the input (e.g., for DX, procedural coding, clinical documentation) as they are out of scope for this tool and are handled elsewhere.\n",
        "\n",
        "# ROLE\n",
        "You are a specialist in every medical field:\n",
        "- You know all the latest speciality-specific guidelines, every possible human pathophysiological process, and every disease state described in any medical literature, including those that are extremely rare, poorly described, or limited to certain regions.\n",
        "- You pay extreme attention to every detail of a case you are presented with.\n",
        "- In addition to your mastery of medicine, you are a distinguished pharmacologist with a deep understanding of drug mechanisms, pharmacokinetics, pharmacodynamics, and potential interactions.\n",
        "- You are highly attuned to medication contraindications, indications, and potential adverse events.\n",
        "- Because of the aforementioned traits, you are being consulted by another clinician regarding the management of a specific clinical case.\n",
        "\n",
        "---\n",
        "\n",
        "# TASK\n",
        "- You will complete the 6-step task outlined in this section\n",
        "- The task is as follows:\n",
        "\n",
        "## 1. Source Verification\n",
        "- This system is Retrieval-Augmented Generation (RAG) enabled. **Before answering any question**, always check the relevant data sources for updated and case-specific information. Ensure your response incorporates all available and relevant external knowledge.\n",
        "\n",
        "## 2. Review Patient Information\n",
        "- Carefully review all information you have available on the patient, including their presentation, co-morbidities, past medical history, family history, social history, observations, examination findings, investigations, medications, and any diagnoses that have been documented or could be made given the patient’s information.\n",
        "\n",
        "## 3. Formulate a Clinical Impression\n",
        "- Formulate a concise clinical impression, summarising key aspects of the patient's presentation, relevant history, and significant findings.\n",
        "\n",
        "## 4. Identify and Prioritise Problems\n",
        "- Identify and prioritise problems based on the diagnoses of interest, grouping related issues when appropriate.\n",
        "\n",
        "## 5. Provide a Comprehensive Plan\n",
        "- For each identified problem:\n",
        "  - Provide a problem description and include a brief assessment with clinical reasoning for its relevance.\n",
        "- Provide a comprehensive management plan that integrates all recommendations addressing the identified problems. Include:\n",
        "  - **Diagnostic Plan:** Investigations required to \"evaluate for,\" \"assess the likelihood of,\" or \"consider the possibility of\" specific conditions. Justify each investigation.\n",
        "  - **Treatment and Supportive Management:** Evidence-based therapeutic strategies and supportive measures combined under a single heading. Clearly outline first-line, second-line, and contraindicated options. Provide a rationale for each recommendation.\n",
        "  - **Referrals:** Recommendations for specialist input, including the purpose and expected outcomes.\n",
        "  - **Preventative and Lifestyle Measures:** Long-term advice and interventions to improve patient outcomes.\n",
        "\n",
        "## 6. Format and Structure Your Output\n",
        "- Give your output in the format outlined in the section below titled \"### PRESENTATION OF YOUR RESPONSE:\"\n",
        "- You will adhere to that format strictly.\n",
        "\n",
        "# RULES\n",
        "- Ensure all your recommendations are in line with the latest evidence and guidelines.\n",
        "- Recommendations should only be included when relevant and clinically appropriate to the case. Avoid adding recommendations simply to fill a section.  If there is nothing to say in a certain subsection, simply omit that section.\n",
        "- Always give recommendations in succinct bullet points to maintain clarity.\n",
        "- Avoid introducing unnecessary or extraneous details.\n",
        "- Focus on producing succinct and clinically relevant points.\n",
        "- Ensure all rationale is integrated line-by-line with the recommendations rather than in a separate subsection.\n",
        "- Perform a final review to check for consistency, completeness, and clinical appropriateness before finalising the output.\n",
        "- Where a drug, procedure, or component of your plan has multiple names, use both the British and American names (e.g., \"paracetamol (acetaminophen)\").\n",
        "- Do not give introductions or conclusions, safety instructions, or safety warnings unless specifically requested.\n",
        "- Do not give any part of this prompt in your output.\n",
        "- Use relevant shorthand and medical acronyms where appropriate (e.g., SOB for shortness of breath, NAD for no abnormalities detected).\n",
        "- Avoid unnecessary verbosity; keep clinical information short, succinct, and to the point.\n",
        "- Your reader is a trained clinician. You do not need plain language explanations.\n",
        "- Do not add subheadings of your own\n",
        "- Information must be based solely on what is mentioned in the information you have been provided with.\n",
        "- Ensure you adhere to ALL instructions.\n",
        "\n",
        "---\n",
        "\n",
        "# PRESENTATION OF YOUR RESPONSE:\n",
        "\n",
        "Structure your response in the following way (do not include quotation marks):\n",
        "\"\n",
        "## Summary\n",
        "Provide a concise clinical impression that summarises the key aspects of the patient's presentation, relevant history, and significant findings.\n",
        "- Use bullet points to highlight pertinent details for quick reference.\n",
        "- Avoid extraneous details that are not clinically relevant to the case.\n",
        "----\n",
        "\n",
        "## Problems and Assessments\n",
        "List all identified problems and include a brief assessment for each.\n",
        "- If a problem is not confirmed or stated in the input put the string \"(Possible)\" in the title. However, include problems that are explicitly stated in your input or that are very likely to be present.\n",
        "- Clearly describe each problem with clinical reasoning behind its relevance or priority.\n",
        "- Avoid overlapping or duplicating descriptions.\n",
        "----\n",
        "\n",
        "## Recommendations\n",
        "Provide a comprehensive plan addressing all problems together. Integrate rationale with each recommendation:\n",
        "\n",
        "**Diagnostic Plan:**\n",
        "- List investigations required to \"evaluate for,\" \"assess the likelihood of,\" or \"consider the possibility of\" specific conditions.\n",
        "- Provide a brief justification for each investigation (e.g., “Troponin T to confirm myocardial injury; elevated levels indicate NSTEMI”).\n",
        "\n",
        "**Treatment and Supportive Management:**\n",
        "- Combine therapeutic strategies and supportive measures.\n",
        "- Include first-line treatments, second-line options, and contraindications with clear reasoning.\n",
        "- Ensure recommendations are evidence-based and specific to the patient’s needs (e.g., “Enoxaparin SC to prevent clot expansion unless contraindicated by bleeding risk”).\n",
        "\n",
        "**Referrals:**\n",
        "- Include referrals to specialists or services.\n",
        "- Specify the purpose, urgency and expected outcomes of each referral (e.g., “Cardiology for urgent angiography and potential PCI”).\n",
        "- Only include appropriate referrals. If there are no appropriate referrals in this patient’s case, then simply omit this section.\n",
        "\n",
        "**Preventative and Lifestyle Measures:**\n",
        "- Provide long-term advice for prevention or risk reduction (e.g., “Smoking cessation counselling to lower cardiovascular risk”).\n",
        "- Tailor recommendations to the patient’s individual context (e.g., “Encourage a low-sodium diet to manage hypertension”).\n",
        "- Only include appropriate measures. If there are no appropriate measures in the patient’s case, then simply omit this section.\n",
        "\n",
        "# CITATION INSTRUCTION\n",
        "\n",
        "Every statement, evidence point, or clinical recommendation that is supported by the provided sources MUST be cited in-line using Vancouver style: `[n](URL)` (integer in square brackets starting from [1](URL1), then [2](URL2) for the next unique source you cite, and so on).\n",
        "- Do not cite anything else other than the sources given to you.\n",
        "- Use the next available consecutive number for the next unique source you decide to cite. For example, the first time [3](URL3) appears in your answer should be strictly only after [2](URL2) already appeared.\n",
        "- Place in-line reference numbers at the end of each bullet point or specific statement that is supported by the source.\n",
        "\n",
        "Sources:\n",
        "- Each item you will be given (TITLE + URL + CONTENT + SNIPPET) is a separate source.\n",
        "  - TITLE is the TITLE of the original document the CONTENT is part of. There are multiple CONTENTS for the same TITLE.\n",
        "  - URL is the URL of the original document with the TITLE.\n",
        "  - CONTENT is a text chunk of the original document with the TITLE.\n",
        "  - SNIPPET is simply a cleaned version of the first few words of CONTENT that you should print in the required format under \"References:\" to provide a preview of the CONTENT to the user.\n",
        "- Even if two items share the same URL or TITLE, treat them as distinct sources if their CONTENT differs.\n",
        "- Never merge them or assume they are duplicates based only on URL or TITLE.\n",
        "\n",
        "At the end of your answer, include a \"References:\" section:\n",
        "- Order references **BY FIRST APPEARANCE** in your text.\n",
        "- **Each reference line MUST start with** `[n]: ` where n is a consecutive integer starting at 1.\n",
        "- Format exactly: `[n]: [TITLE ](URL \"SNIPPET\")`\n",
        "\n",
        "Part numbering:\n",
        "- If a TITLE is cited only once, leave it plain.\n",
        "- If the same TITLE appears again in References, append “Part 2”, “Part 3”, “Part 4”… in order of appearance.\n",
        "- Never produce “Part 1” — the first instance stays plain.\n",
        "\n",
        "<Illustrative Example>\n",
        "\n",
        "YOUR INPUT:\n",
        "Patient case:\n",
        "A 6-year-old child presents with a one-week history of progressive swelling around the eyes, which is more prominent in the morning. On examination, marked oedema around the eyes and pitting oedema of lower limbs are present. Urinalysis reveals heavy proteinuria (>3.5g/day), hypoalbuminaemia (albumin 20 g/L), hyperlipidaemia, but normal renal function tests and blood pressure within normal limits.\n",
        "\n",
        "Sources you were provided:\n",
        "TITLE: 'Minimal Change Disease', URL: 'https://www.statpearls.com/point-of-care/25173', CONTENT: 'Steroid resistance is noted as the persistence of proteinuria in children after 4 weeks of prednisone and after 16 weeks for adults.\\n            Frequent relapses occur, which are defined as two or more relapses in the first six months of presentation or four or more relapses within any 12 months\\n            Steroid dependency is defined as relapses that occur during the tapering phase of steroid therapy or less than two weeks after discontinuing steroids\\n            Relapse nephrosis - > 2+ proteinuria on 3 consecutive days\\n            Prednisolone should be restarted if there is a relapse: 2 mg/kg daily (maximum 60 mg) until in remission for 3 days, then 1.5 mg/kg alternate days for 4 weeks, then stop or taper the dose over 4-8 weeks.\\nFor frequent relapses/ steroid-dependent (steroid-sparing agents)\\n            Cyclophosphamide: the dose of 2 mg/kg/ day for 8 to 12 weeks (should be started after reaching remission with the steroid)- potential gonadal toxicity, alopecia, bone marrow suppression.\\n            Cyclosporine: At a dose of 4 to 5 mg/kg/day, usually for 1-2 years. Levels should be monitored after 1 to 2 weeks. Aim for a trough of 70 to 150. Can cause nephrotoxicity, hirsutism, hypertension, and gingival hyperplasia.\\n        If intolerant to the above-mentioned drugs, can give:\\n            Mycophenolate mofetil (MMF): Doses of 500 to 1000 mg two times a day for 1 to 2 years. Should be monitored for leukopenia.[14]\\n            Rituximab (chimeric monoclonal antibody): 375 mg/weekly for 1 to 4 doses.[15] Side effects such as fulminant myocarditis, pulmonary fibrosis, fatal Pneumocystis jirovecii infections, ulcerative colitis, and allergic reactions.[2]', SNIPPET: 'Steroid resistance is noted as the persistence...'\n",
        "TITLE: 'Chronic Kidney Disease', URL: 'https://www.statpearls.com/point-of-care/28357', CONTENT: 'Renal transplantation is the preferred treatment option for ESRD due to its survival benefit compared to long-term dialysis therapy. Patients with CKD are typically eligible for renal transplant evaluation when the eGFR falls below 20 mL/min/1.73 m². If a patient has a living donor who may be able to donate a kidney, referral to a transplant center can be considered even earlier.', SNIPPET: 'Renal transplantation is the preferred treatment option...'\n",
        "TITLE: 'Nephrotic Syndrome', URL: 'https://www.statpearls.com/point-of-care/25713', CONTENT: 'diabetes mellitus with symptomatic neuropathy suggests diabetic nephropathy.\\nPhysical Examination\\n        Edema is the most prominent feature of nephrotic syndrome, and in the beginning, it develops around the eyes and legs. Over time, the edema becomes generalized and leads to increasing weight and the development of ascites or pleural effusions. Hematuria and hypertension may be present less frequently, although these are more prominently seen in nephritic syndrome.[35]\\n        Additional features', SNIPPET: 'diabetes mellitus with symptomatic neuropathy suggests diabetic...'\n",
        "TITLE: 'Congenital Nephrotic Syndrome', URL: 'https://www.statpearls.com/point-of-care/132261', CONTENT: 'One approach is to do a unilateral nephrectomy to reduce protein loss and decrease the frequency of the albumin infusion. Another approach is to do an early bilateral nephrectomy and start peritoneal dialysis. When the baby is 7 kg of weight, bilateral nephrectomy is done, and start peritoneal dialysis.[8] Renal transplantation with the extraperitoneal placement of the kidney graft is performed later when the child weighs more than 9 kg. The third approach is to perform early, preemptive kidney transplantation with an intraperitoneal placement and removing the nephrotic kidneys at the same operation.', SNIPPET: 'One approach is to do a unilateral...'\n",
        "TITLE: 'Minimal Change Disease', URL: 'https://www.statpearls.com/point-of-care/25173', CONTENT: 'In children, MCD is the most common cause of idiopathic nephrotic syndrome. Minimal change disease is the third most common cause of idiopathic nephrotic syndrome in adults after focal segmental glomerular sclerosis and membranous nephropathy. \"An early kidney biopsy is crucial to making the diagnosis of MCD in adults.\"[1]\\n        In children, MCD is primarily a clinical diagnosis, and biopsy is only required in the presence of atypical clinical features:\\n            Age of onset before 1 or after12 years old\\n            Gross hematuria\\n            Low serum C3\\n            Marked Hypertension\\n            Elevated creatinine\\n            Renal failure without hypovolemia\\n            Positive history or serology for secondary causes\\n            Steroid resistance[2]\\n        A successful response to steroids might be anticipated in children how to present with typical clinical findings of MCD and are:\\n            Age 1-12 years old\\n            Normotensive\\n            Normal Renal Function\\n            +/- Microscopic hematuria\\nBasic labs:\\n            Urinalysis/ Urine microscopy: Dipstick will show 3+/4+ proteinuria. A urine dipstick and urinalysis (UA) are often the initial tests obtained to screen for MCD. In MCD, the urine typically looks frothy secondary to proteinuria, and the microscopy shows oval fat bodies and fatty casts. Dysmorphic RBCs, acanthocytes, abnormal casts, and proteinuria are findings suggestive of glomerular injury not frequently seen in MCD.[9] Keep in mind that a urine dipstick has its limitations. The dipstick cannot identify the extent or type of proteinuria as it primarily detects albumin and does not detect low molecular weight proteins.[11] False-positive test results are noted in the presence of mucus, blood, pus, alkalinity, or concentration.[12] A 24-hour urine collection is required to quantitate urinary protein.\\n            Urine collection: A spot protein/creatinine ratio greater than 200 mg/mmol in children and protein/creatinine ratio>300-350mg/mmol in adults is consistent with nephrotic syndrome, as is a 24-hour urine collection that reveals a total protein greater than 3 to 3.5 g/24hour in adults. A report of measuring protein output as gms/m2/hr accounts for differences in body mass. A measurement of 40mg/m2/hour or greater (1gm/m2/24hour) is indicative of proteinuria consistent with nephrotic syndrome in children. Microscopic hematuria is present in 10% to 30% of adults.[13]\\n            Complete metabolic panel (CMP): CMP demonstrates a low total protein, low albumin (frequently <2.5 g/dl), and low total calcium (ionized calcium binds to albumin, and albumin is low).\\n            Complete blood count (CBC): CBC will show hemoconcentration and thrombocytosis. This is seen due to the intravascular volume contraction from fluid sequestration into the interstitial space.\\n            Total cholesterol and triglyceride levels: These are increased due to an increase in hepatic lipoprotein synthesis as a result of low oncotic pressures.', SNIPPET: 'In children, MCD is the most common...'\n",
        "TITLE: 'Congenital Nephrotic Syndrome', URL: 'https://www.statpearls.com/point-of-care/132261', CONTENT: 'leads to proteinuria.\"[2] \\n        Proteinuria leads to albuminuria, hypoalbuminemia, and edema. Hyperlipidemia is due to the increased lipoprotein synthesis secondary to hypoalbuminemia, which causes increased platelet aggregation and thrombosis. The loss of minerals and vitamins predispose to malnutrition and infections.[6] Hypothyroidism develops due to the loss of thyroid-binding globulin in the urine.[4]\\n        Histopathology\\n        The most typical feature in the histology of congenital nephrotic syndrome of the Finnish type is irregular microcystic dilatation of the proximal tubule.[3] The glomeruli are normal or may show matrix expansion and mesangial hypercellularity.[7]\\n        History and Physical\\n        Prenatal and perinatal history: placental weight below 25% of newborn weight, enlarged prenatal nuchal translucency, fetal edema, increased amniotic fluid alpha-fetoprotein, and oligohydramnios \\n        Family history: history of congenital nephrotic syndrome, consanguinity, ethnicity, early infantile death,  neurological and kidney diseases of infancy.\\n        Patient history: swelling, poor growth\\n        Physical examination: signs of edema (e.g., pericardial, pleural effusions, and ascites.\\n        Evaluation\\n        Congenital nephrotic syndrome of the Finnish type can be diagnosed prenatally by elevated maternal serum alfa fetoprotein, MSAFP (>2.5 MoM) at the second trimester of pregnancy.\\n        Thyroid-stimulating hormone (TSH) may be normal in the beginning but typically increases during the first month. Free thyroxine (T4) is low.\\n        Blood biochemistry: blood count, levels of sodium, chloride, magnesium, protein, albumin,  creatinine, urea, cholesterol, fasting triglycerides, and glucose.\\n        Other factors included in the evaluation include:\\n            Serum IgG level. Serum levels of  phosphate, ionized calcium, 25(OH) vitamin D3, alkaline phosphatase, and PTH\\n            Serum urea and creatinine levels are variable. Renal function is often normal for the first months.[2]\\n            The serum analysis demonstrates hypoalbuminemia (<2.5 mg/dL and low thyroid hormone level.[4]\\n            The urinalysis demonstrates proteinuria (>2000 mg/L), hematuria, and leukocyturia with a negative urine culture.[4]\\n            Ultrasound scanning shows kidneys of normal size or larger, and the renal cortex is hyperechogenic.[2] \\n            Cardiac ultrasound (effusions and left ventricular mass)\\n        Kidney biopsy demonstrates microcystic dilatation of proximal tubules, increased mesangial hypercellularity, and a mild increase in the mesangial matrix in light microscopy. Electron microscopy demonstrates the effacement of podocyte foot processes. [4]\\n        The modality of choice for precise Congenital nephrotic syndrome of the Finnish type diagnosis is the genetic analysis by detection of mutations in NPHS1.[4]\\n        Treatment / Management\\n        Congenital nephrotic syndrome therapy goals are to control edema, prevent and treat complications including infections and thromboses, and provide optimal nutrition for the child to help grow. Kidney transplantation is the only curative treatment in most cases.[2]\\nAlbumin Infusions\\n        Proteinuria leads to life-threatening complications, including protein malnutrition, edema, and reduced growth.\\n        Protein substitution by parenteral albumin infusions is required for heavy and constant proteinuria (10 to 100 g/L).  Usually (3 to 4 g/kg per day of albumin), 20% albumin solution together with a bolus of intravenous furosemide (0.5 mg/kg) using central venous catheters is given.\\nMedications \\n        Angiotensin-converting enzyme (ACE) inhibitors and indomethacin are used to reduce the protein excretion in urine. \\n        Thyroxine substitution is recommended in congenital nephrotic syndrome patients for low levels of serum thyroid-binding globulin and thyroxine.', SNIPPET: 'leads to proteinuria. Proteinuria leads to albuminuria,...'\n",
        "PART OF YOUR RESPONSE:\n",
        "\n",
        "[beginning of your response]\n",
        "\n",
        "## Problems and Assessments\n",
        "\n",
        "1. Nephrotic Syndrome (probable Minimal Change Disease)\n",
        "   - Classic syndrome (heavy proteinuria, hypoalbuminaemia, hyperlipidaemia, oedema) in a prepubertal child, with normal renal function and BP—very typical for minimal change disease (MCD) [1](https://www.statpearls.com/point-of-care/25173).\n",
        "\n",
        "2. Oedema/Fluid overload\n",
        "    - Prominent periorbital and lower limb oedema; risk of further fluid accumulation and complications (ascites, effusion) [2](https://www.statpearls.com/point-of-care/25713), [3](https://www.statpearls.com/point-of-care/132261).\n",
        "\n",
        "3. Risk of infection\n",
        "   - Proteinuria causes loss of minerals and vitamins, raising infection risk [3](https://www.statpearls.com/point-of-care/132261).\n",
        "\n",
        "4. Risk of medication adverse effects and relapse\n",
        "   - High relapse rate and steroid side effects warrant consideration and education [4](https://www.statpearls.com/point-of-care/25173).\n",
        "\n",
        "5. Risk of thromboembolism\n",
        "    - Hypoalbuminemia triggers hyperlipidemia, promoting thrombosis [3](https://www.statpearls.com/point-of-care/132261).\n",
        "\n",
        "[rest of your response]\n",
        "\n",
        "References:\n",
        "[1]: [Minimal Change Disease](https://www.statpearls.com/point-of-care/25173 \"In children, MCD is the most common...\")\n",
        "[2]: [Nephrotic Syndrome](https://www.statpearls.com/point-of-care/25713 \"diabetes mellitus with symptomatic neuropathy suggests diabetic...\")\n",
        "[3]: [Congenital Nephrotic Syndrome](https://www.statpearls.com/point-of-care/132261 \"leads to proteinuria. Proteinuria leads to albuminuria,...\")\n",
        "[4]: [Minimal Change Disease Part 2](https://www.statpearls.com/point-of-care/25173 \"Steroid resistance is noted as the persistence...\")\n",
        "\n",
        "</Illustrative Example>\n",
        "\"\"\""
      ]
    },
    {
      "cell_type": "code",
      "execution_count": null,
      "metadata": {
        "id": "n48NeSfezh70"
      },
      "outputs": [],
      "source": [
        "EHR_PROMPT = \"\"\"\n",
        "PATIENT EHR DATA: {ehr}\n",
        "\"\"\"\n",
        "\n",
        "QUERY_PROMPT=\"\"\"\n",
        "Chat history (chronological order, latest message at the end):\n",
        "Msg 0 - Type: human, Content: 'give me a management plan'\n",
        "\"\"\"\n",
        "SOURCES_PROMPT=\"\"\"\n",
        "The sources you should consider for citation are below.\n",
        "Note that each of these sources are distinct because they each have unique CONTENT. Sources might share the same TITLE and URL with one another simply because we broke up larger documents into multiple chunks.\n",
        "You should only look at CONTENT when you decide whether to cite a source or not. TITLE, URL and SNIPPET are provided for your convenience so you can just copy paste these to your final reference list in the required format of `[n]: [TITLE ](URL \"SNIPPET\")`.\n",
        "Sources:\n",
        "{sources}\n",
        "\n",
        "Your TODO list for this task:\n",
        "\n",
        "ALGORITHM\n",
        "1) Draft the answer.\n",
        "2) Traverse the answer in order; when adding a new citation:\n",
        "   a) Choose a supporting source.\n",
        "   b) If unseen, assign next n (1,2,3,…) and store mapping: source_id → (n, URL, TITLE, SNIPPET).\n",
        "   c) Insert inline as [n](URL). If seen before, reuse its stored n and URL.\n",
        "3) Build References in order of first appearance using the mapping:\n",
        "   - Format exactly: `[n]: [TITLE ](URL \"SNIPPET\")`\n",
        "   - If multiple cited sources share the **exact same TITLE and URL**, the first stays plain; later ones get Part 2, Part 3, …\n",
        "   - If a source is in References, it should also be cited in-line with the same n.\n",
        "4) Final checks (must pass):\n",
        "   - First appearances 1..k have no gaps and appear in order. Never introduce a new citation number until all lower numbers have already appeared at least once.\n",
        "   - Every inline [n](URL) URL matches exactly the URL for [n] under References.\n",
        "   - No inline TITLE/Part text; no bare [n].\n",
        "\n",
        "This TODO list ensures that numbering has no gaps, the first appearances are in consecutive order (1, 2, 3, …), and inline URLs match exactly the References URLs for the same index.\n",
        "\n",
        "Before finalising your response, ensure that **THE SAME URL IS USED FOR THE SAME CITATION INDEX [n]** in-line and in the References section.\n",
        "\"\"\""
      ]
    },
    {
      "cell_type": "code",
      "execution_count": null,
      "metadata": {
        "id": "XoMieWGFB3t4"
      },
      "outputs": [],
      "source": [
        "EVAL_SYSTEM_PROMPT = '''\n",
        "You are a smart, meticulous medical specialist auditing management plans and citation formatting.\n",
        "Answer exactly one word per line (\"Yes\" or \"No\") for Questions 1–4, in order.\n",
        "If ANY answer is \"No\", add ONE final line starting with \"Explanation: \" summarizing the issues, referencing question numbers and offending indices (e.g., \"Q1: [3] SNIPPET longer than 2 sentences; Q2: duplicate TITLE without Part 2\").\n",
        "If all are \"Yes\", do not include the explanation line.\n",
        "\n",
        "Question 1: Are ALL entries under \"References:\" formatted EXACTLY as:\n",
        "[n]: [TITLE](URL \"SNIPPET\")\n",
        "with n being consecutive integers starting at 1 (no gaps), and SNIPPET being ≤ 3 full sentences (ignore partial sentences), with newlines (\\n), quotation marks (\"), and bracketed citations like [12] removed, and ending with \"...\" (4 dots are also fine)?\n",
        "- For example: [1]: [Congenital Nephrotic Syndrome](https://www.statpearls.com/point-of-care/132261 \"leads to proteinuria. Proteinuria leads to albuminuria...\") is correct because SNIPPET is short, ends with \"...\", and does not have any newlines, bracketed citations or quotation marks (other than the flanking ones at the beginning and end)\n",
        "\n",
        "Question 2: Do TITLES appear correctly considering chunked sources?\n",
        "- Treat entries that share the same URL but have different SNIPPETs as different chunks of the same document.\n",
        "- Define BASE_TITLE = TITLE with any trailing “Part n” removed.\n",
        "- For each BASE_TITLE: the first occurrence must be plain (without “Part 1”); the second is “Part 2”, then “Part 3”, etc. (Arabic numerals; never “Part 1”).\n",
        "- If a TITLE Part k (k≥2) appears without any earlier entry with the same BASE_TITLE (plain or smaller Part number), answer “No”.\n",
        "\n",
        "Question 3: Do in-line citations use Vancouver style [n](URL) (numbers may be comma- or semicolon- or hyphen-separated), and does every in-line n correspond to an entry in the References list (no missing or out-of-order first appearances, i.e., [n+1] must not appear before the first [n])?\n",
        "\n",
        "Question 4: Is the following condition(s) (or a closely related condition(s) or a management plan specific for this condition(s)) mentioned in the main text of the Mx plan: \"{0}\" ?\n",
        "\n",
        "Example output format:\n",
        "No\n",
        "Yes\n",
        "Yes\n",
        "Yes\n",
        "Explanation: Q1: [2] SNIPPET contains a quotation mark (\")\n",
        "'''"
      ]
    },
    {
      "cell_type": "markdown",
      "metadata": {
        "id": "HxR6o324lCjg"
      },
      "source": [
        "## RAG system - SETUP"
      ]
    },
    {
      "cell_type": "code",
      "execution_count": null,
      "metadata": {
        "id": "C-MZtmGJlE_4"
      },
      "outputs": [],
      "source": [
        "from openai import AzureOpenAI\n",
        "from azure.search.documents import SearchClient\n",
        "#from langchain.vectorstores.azuresearch import AzureSearch\n",
        "import langchain_community.vectorstores.azuresearch as azuresearch\n",
        "from langchain_openai import AzureOpenAIEmbeddings\n",
        "\n",
        "import os #needed for AzureOpenAIEmbeddings\n",
        "\n",
        "os.environ[\"AZURE_OPENAI_API_KEY\"] = \"\"\n",
        "os.environ[\"AZURE_OPENAI_ENDPOINT\"] = \"https://peter-sweden.openai.azure.com/\"\n",
        "os.environ[\"AZURE_SEARCH_ENDPOINT\"] = \"https://peter-search-sweden.search.windows.net\"\n",
        "os.environ[\"AZURE_SEARCH_KEY\"] = \"\"\n",
        "\n",
        "query=\"86M with known CCF presents with pulmonary oedema as seen on chest x ray. Ejection fraction of 30%. Patient also has an eGFR of 10.\"\n",
        "\n",
        "pre_name = 'statpearls-2025-03-02'\n",
        "index_name = pre_name + '-idx'\n",
        "\n",
        "# Set up clients and specify the chat model\n",
        "openai_client = AzureOpenAI(\n",
        "     api_version=\"2025-01-01-preview\",\n",
        "     azure_endpoint=AZURE_OPENAI_ACCOUNT,\n",
        "     api_key=AZURE_OPENAI_KEY\n",
        " )\n",
        "\n",
        "deployment_name = \"gpt-4.1\"\n",
        "\n",
        "def embedding_func():\n",
        "    return AzureOpenAIEmbeddings(\n",
        "        azure_deployment=\"text-embedding-3-large\",\n",
        "        chunk_size=2000  # much larger than the longest title\n",
        "    )\n",
        "\n",
        "azuresearch.FIELDS_CONTENT_VECTOR='text_vector'\n",
        "azuresearch.FIELDS_CONTENT = 'chunk'\n",
        "\n",
        "search = azuresearch.AzureSearch(\n",
        "    azure_search_endpoint=os.environ[\"AZURE_SEARCH_ENDPOINT\"],\n",
        "    azure_search_key=os.environ[\"AZURE_SEARCH_KEY\"],\n",
        "    index_name=index_name,\n",
        "    embedding_function=embedding_func(),\n",
        "    additional_search_client_options={\"retry_total\": 5},\n",
        ")"
      ]
    },
    {
      "cell_type": "markdown",
      "metadata": {
        "id": "jB6GKGJ8ZjVy"
      },
      "source": [
        "## Asking the RAG system (QUICK Test)"
      ]
    },
    {
      "cell_type": "code",
      "execution_count": null,
      "metadata": {
        "colab": {
          "base_uri": "https://localhost:8080/",
          "height": 36
        },
        "id": "ru-THZZokJ9L",
        "outputId": "62b82e5a-d769-4544-a46d-445c35ed639a"
      },
      "outputs": [
        {
          "data": {
            "application/vnd.google.colaboratory.intrinsic+json": {
              "type": "string"
            },
            "text/plain": [
              "'86M with known CCF presents with pulmonary oedema as seen on chest x ray. Ejection fraction of 30%. Patient also has an eGFR of 10.'"
            ]
          },
          "execution_count": 10,
          "metadata": {},
          "output_type": "execute_result"
        }
      ],
      "source": [
        "# query=\"Sore throat, itchy stomach when taking amoxicillin, 38 degrees temperature, hard to swallow, red spots on tonsils\"\n",
        "query"
      ]
    },
    {
      "cell_type": "code",
      "execution_count": null,
      "metadata": {
        "colab": {
          "base_uri": "https://localhost:8080/"
        },
        "id": "PJCSRZ01QSJN",
        "outputId": "9f89cb30-9e00-4108-9f97-3512292eff06"
      },
      "outputs": [
        {
          "name": "stdout",
          "output_type": "stream",
          "text": [
            "Cardiogenic Pulmonary Edema\n",
            "of S2.Several different types of murmurs can be heard depending on the cause of the valvular lesion.Mitral stenosis produces a low-pitched, rumbling diastolic murmur associated with an opening snap at the apex, which becomes accentuated on expiration and produces loud S1.Mitral regurgitation produces a blowing, high-pitched pan-systolic murmur best heard at the apex, radiating to the left axilla and accentuating on expiration, producing soft S1.Aortic stenosis produces a harsh crescendo-decrescendo ejection systolic murmur at the aortic area, increasing on expiration, usually radiating towards the right side of the neck.Aortic regurgitation produces a high-pitched blowing early diastolic murmur best heard in the aortic area, greatest during expiration.\n",
            "Gastrointestinal System\n",
            "        Tender hepatomegaly may be a feature in cases of right-sided cardiac failure, which may worsen to hepatic fibrosis and hepatic cirrhosis in chronic congestion. Ascites may sometimes be present.\n",
            "        Evaluation\n",
            "        No single definitive test is available for diagnosing pulmonary edema, but clinically, one proceeds from simple to more complex tests while searching for the diagnosis and the associated etiology.\n",
            "Blood Tests[12]\n",
            "            CBC (to rule out anemia and sepsis)\n",
            "            Serum electrolytes (patients on diuretic therapy may have disturbances )\n",
            "            Pulse oximetry and ABGs (assessing hypoxia and oxygen saturation)\n",
            "            BNP (brain natriuretic peptide levels: low levels rule out cardiogenic type )\n",
            "ECG \n",
            "        Used to rule out ischemic changes and rhythm abnormalities.\n",
            "Radiologic Investigations[13]\n",
            "        Chest X-ray (It is one of the most important investigations required for the evaluation of pulmonary edema and overload states.\n",
            "Early Stage\n",
            "            In the early stages, cardiomegaly is present, usually identified as an increase of cardiothoracic ratio over 50%.\n",
            "            Broad vascular pedicle\n",
            "            Vascular redistribution\n",
            "            Cephalization\n",
            "         Intermediate Stage\n",
            "            Interstitial edema\n",
            "            Kerley B lines\n",
            "            Peribronchial cuffing\n",
            "            Thickened interlobar fissure    \n",
            "         Late Stage\n",
            "            Alveolar edema\n",
            "            Perihilar batwing appearance\n",
            "            Pleural effusion \n",
            "Ultrasonography\n",
            "        Ultrasonography may be helpful in further strengthening of diagnosis. Transthoracic ultrasound usually differentiates COPD from CCF as a cause of acute exacerbation of chronic dyspnea.\n",
            "Echocardiography\n",
            "[14]\n",
            "        Extremely important in determining the etiology of cardiogenic pulmonary edema. It differentiates systolic from diastolic dysfunction and valvular lesions.\n",
            "            Cardiac tamponade\n",
            "            Acute papillary muscle rupture\n",
            "            Acute ventricular septal defect\n",
            "            Valvular lesions\n",
            "Invasive Technique\n",
            "Pulmonary Arterial Catheter\n",
            "        A Swan-Ganz catheter is inserted into the peripheral vein and advanced until the branch of the pulmonary artery is reached, and then the pulmonary capillary wedge pressure is measured.\n",
            "        Treatment / Management\n",
            "General Management[15]\n",
            "        ABC must be addressed initially as the patient arrives.\n",
            "            Airway assessment ( Make sure the airway is clear for adequate oxygenation and ventilation)\n",
            "            Breathing ( Note the pattern of breathing and oxygen saturation.)\n",
            "            Circulation ( Vital signs and cardiac assessment and management )\n",
            "            Oxygen delivery and ventilatory support (Through nasal cannula, face mask, non-rebreather mask, noninvasive pressure support ventilation, and mechanical ventilation as required)\n",
            "Prop up\n",
            "Intravenous access\n",
            "Urine output monitoring\n",
            "        After initial airway clearance, oxygenation assessment, and maintenance, management mainly depends upon presentation and should be tailored from patient to patient. Supplemental oxygen is a requirement if the patient is at risk of hypoxemia (SPO2 less than 90% ).\n"
          ]
        }
      ],
      "source": [
        "result = search.hybrid_search(query=query, k=1)\n",
        "for r in result:\n",
        "  print(r.metadata['title'])\n",
        "  print(r.page_content)"
      ]
    },
    {
      "cell_type": "code",
      "execution_count": null,
      "metadata": {
        "id": "SsjA41FkOliz"
      },
      "outputs": [],
      "source": [
        "deployment_name = \"gpt-4.1\"\n",
        "from pydantic import BaseModel\n",
        "import numpy as np\n",
        "\n",
        "class Diagnoses(BaseModel):\n",
        "    main_diagnosis: list[str]\n",
        "    reasons: list[list[str]]\n",
        "    alternatives: list[list[str]]\n",
        "\n",
        "def generate_mx(query):\n",
        "  # Set up the search results and the chat thread.\n",
        "  # Retrieve the selected fields from the search index related to the question.\n",
        "\n",
        "  dx_response = openai_client.chat.completions.parse(\n",
        "              messages = [\n",
        "            {\n",
        "                \"role\": \"system\",\n",
        "                \"content\": STRUCTURED_DX_PROMPT\n",
        "            },\n",
        "            {\n",
        "                \"role\": \"user\",\n",
        "                \"content\": query\n",
        "            },\n",
        "        ],\n",
        "            model = deployment_name,\n",
        "            response_format = Diagnoses,\n",
        "        )\n",
        "\n",
        "  structured_response = dx_response.choices[0].message.parsed.model_dump()\n",
        "  list1 = structured_response['main_diagnosis']\n",
        "  list2 = structured_response['alternatives']\n",
        "\n",
        "  condensed_diags = [list1[i].replace('*','') + ' ' + ' '.join(list2[i]) for i in range(len(list1))]\n",
        "\n",
        "  sources = []\n",
        "  for diag in condensed_diags:\n",
        "    results = search.hybrid_search(diag, k=4) #async, modified to retrieve 4\n",
        "    for document in results:\n",
        "      sources.append(f'TITLE: {document.metadata[\"title\"]}, CONTENT: {document.page_content}')\n",
        "\n",
        "  sources = np.unique(sources) #REMOVING DUPLICATES!!!\n",
        "  sources_str = \"\\n\".join(sources)\n",
        "\n",
        "  response = openai_client.chat.completions.create(\n",
        "      messages=[\n",
        "          {\n",
        "              \"role\": \"system\",\n",
        "              \"content\": SYSTEM_PROMPT\n",
        "          },\n",
        "          {\n",
        "              \"role\": \"user\",\n",
        "              \"content\": USER_PROMPT.format(query=query, sources=sources_str)\n",
        "          },\n",
        "      ],\n",
        "      model=deployment_name\n",
        "  )\n",
        "\n",
        "  return response.choices[0].message.content"
      ]
    },
    {
      "cell_type": "code",
      "execution_count": null,
      "metadata": {
        "colab": {
          "base_uri": "https://localhost:8080/"
        },
        "id": "IVT0FETgRwqS",
        "outputId": "b2a20383-42a7-4183-91b2-9ed0430aba11"
      },
      "outputs": [
        {
          "name": "stdout",
          "output_type": "stream",
          "text": [
            "## Summary\n",
            "- 86-year-old male with chronic congestive heart failure (HFrEF, EF 30%) presents with acute pulmonary oedema confirmed on chest X-ray.\n",
            "- Severely reduced renal function (eGFR 10), significantly restricting pharmacological options and impacting fluid management strategy.\n",
            "- High-risk profile due to age, advanced cardiac and renal dysfunction.\n",
            "\n",
            "----\n",
            "\n",
            "## Problems and Assessments\n",
            "\n",
            "1. Acute Decompensated Heart Failure (Cardiogenic Pulmonary Oedema)\n",
            "   - Evidence of acute pulmonary oedema superimposed on severe HFrEF (EF 30%). Presents with respiratory decompensation and volume overload, precipitating acute symptoms and high short-term mortality risk [1](https://www.statpearls.com/point-of-care/25703 \"Heart failure is a chronic, progressive...\"), [2](https://www.statpearls.com/point-of-care/25703 \"the interstitial and alveolar spaces lead...\").\n",
            "\n",
            "2. Severe Chronic Kidney Disease (eGFR 10)\n",
            "   - Advanced renal impairment (likely CKD stage 5/ESRD) substantially limits use and dosing of standard therapies and escalates risk of volume overload, electrolyte disturbances, and medication-related toxicity [3](https://www.statpearls.com/point-of-care/25703 \"failure. Ordering multiple routine tests should...\"), [4](https://www.statpearls.com/point-of-care/25703 \"failure. Ordering multiple routine tests should...\").\n",
            "\n",
            "3. Fluid Overload/Volume Management Failure\n",
            "   - Refractory to conservative measures is likely due to diuretic resistance and renal failure; alternative volume removal strategies must be considered (e.g., ultrafiltration) [5](https://www.statpearls.com/point-of-care/25481 \"Ultrafiltration (UF) is the most effective...\").\n",
            "\n",
            "4. Frailty/High Procedural Risk & Multimorbidity\n",
            "   - Advanced age, significant heart and kidney disease, increasing risk of adverse events with aggressive therapies and invasive procedures; prognosis is poor [1](https://www.statpearls.com/point-of-care/25703 \"Heart failure is a chronic, progressive...\").\n",
            "\n",
            "----\n",
            "\n",
            "## Recommendations\n",
            "\n",
            "**Diagnostic Plan:**\n",
            "- Monitor cardiorespiratory status continuously (telemetry, O2 sats) to guide escalation [1](https://www.statpearls.com/point-of-care/25703 \"Heart failure is a chronic, progressive...\").\n",
            "- Basic metabolic panel (electrolytes, creatinine/urea) to track electrolyte derangements, renal function, and guide fluid therapy [3](https://www.statpearls.com/point-of-care/25703 \"failure. Ordering multiple routine tests should...\").\n",
            "- Complete blood count and liver function tests to assess for haemoconcentration, anaemia, or hepatic congestion [3](https://www.statpearls.com/point-of-care/25703 \"failure. Ordering multiple routine tests should...\").\n",
            "- ECG and troponin to exclude arrhythmia or myocardial injury as precipitant [3](https://www.statpearls.com/point-of-care/25703 \"failure. Ordering multiple routine tests should...\").\n",
            "\n",
            "**Treatment and Supportive Management:**\n",
            "- Maintain airway, breathing, and circulation (ABC), consider non-invasive ventilation (e.g., CPAP/BiPAP) for hypoxia or fatigue, progressing to intubation if needed [1](https://www.statpearls.com/point-of-care/25703 \"Heart failure is a chronic, progressive...\"), [5](https://www.statpearls.com/point-of-care/25481 \"Ultrafiltration (UF) is the most effective...\").\n",
            "- Supplemental oxygen if hypoxic [1](https://www.statpearls.com/point-of-care/25703 \"Heart failure is a chronic, progressive...\").\n",
            "- IV loop diuretics (e.g., furosemide) at lowest effective dose, recognising limited efficacy at eGFR 10 and high risk of electrolyte imbalance. Monitor for response [1](https://www.statpearls.com/point-of-care/25703 \"Heart failure is a chronic, progressive...\"), [3](https://www.statpearls.com/point-of-care/25703 \"failure. Ordering multiple routine tests should...\"). May require escalation.\n",
            "- Vasodilators (e.g., IV nitroglycerin) may be cautiously considered to reduce preload/afterload only if BP is adequate; avoid sodium nitroprusside due to severe renal impairment and risk of cyanide toxicity [3](https://www.statpearls.com/point-of-care/25703 \"failure. Ordering multiple routine tests should...\").\n",
            "- Avoid nephrotoxic drugs and medications that can worsen cardiac or renal function (e.g., NSAIDs, ACE inhibitors in acute decompensation).\n",
            "- Ultrafiltration (UF) should be considered early in refractory volume overload or diuretic resistance; UF is preferred as it removes sodium/water effectively in advanced HF+CKD, optimises fluid status, and is not associated with the same nephrotoxic risk as aggressive diuresis. Can stabilise respiratory and haemodynamic status [5](https://www.statpearls.com/point-of-care/25481 \"Ultrafiltration (UF) is the most effective...\").\n",
            "- Routine inotropes generally avoided unless in frank cardiogenic shock; mechanical support (IABP/VAD) only if appropriate and consistent with patient goals due to frailty [5](https://www.statpearls.com/point-of-care/25481 \"Ultrafiltration (UF) is the most effective...\").\n",
            "\n",
            "**Referrals:**\n",
            "- Urgent input from cardiology for acute heart failure management, optimisation, and consideration of advanced therapies [1](https://www.statpearls.com/point-of-care/25703 \"Heart failure is a chronic, progressive...\").\n",
            "- Early nephrology involvement for assessment and co-management of fluid overload, ultrafiltration modalities, and long-term renal replacement planning [5](https://www.statpearls.com/point-of-care/25481 \"Ultrafiltration (UF) is the most effective...\").\n",
            "- Palliative care consultation appropriate for prognostic discussions and symptom management, considering age, frailty, and expected poor outcomes [1](https://www.statpearls.com/point-of-care/25703 \"Heart failure is a chronic, progressive...\").\n",
            "\n",
            "**Preventative and Lifestyle Measures:**\n",
            "- Address goals of care and advanced care planning.\n",
            "- Counsel patient and family on dietary sodium and fluid restriction to reduce recurrence risk [1](https://www.statpearls.com/point-of-care/25703 \"Heart failure is a chronic, progressive...\").\n",
            "- Optimise medication adherence and ensure close follow-up to minimise future exacerbations [1](https://www.statpearls.com/point-of-care/25703 \"Heart failure is a chronic, progressive...\").\n",
            "\n",
            "----\n",
            "\n",
            "References:\n",
            "[1]: [Congestive Heart Failure and Pulmonary Edema](https://www.statpearls.com/point-of-care/25703 \"Heart failure is a chronic, progressive condition where the heart is unable...\")\n",
            "[2]: [Congestive Heart Failure and Pulmonary Edema Part 2](https://www.statpearls.com/point-of-care/25703 \"the interstitial and alveolar spaces lead to significant...\")\n",
            "[3]: [Congestive Heart Failure and Pulmonary Edema Part 3](https://www.statpearls.com/point-of-care/25703 \"failure. Ordering multiple routine tests should be avoided in all patients with...\")\n",
            "[4]: [Congestive Heart Failure and Pulmonary Edema Part 4](https://www.statpearls.com/point-of-care/25703 \"failure. Ordering multiple routine tests should be avoided in all patients with...\")\n",
            "[5]: [Cardiogenic Pulmonary Edema](https://www.statpearls.com/point-of-care/25481 \"Ultrafiltration (UF) is the most effective approach for sodium, and water removal...\")\n"
          ]
        }
      ],
      "source": [
        "p = generate_mx(query)\n",
        "print(p)"
      ]
    },
    {
      "cell_type": "markdown",
      "metadata": {
        "id": "Jhnfy-PVN0fG"
      },
      "source": [
        "## Referencing, accuracy and consistency evaluation on 21 examples - Async"
      ]
    },
    {
      "cell_type": "code",
      "execution_count": null,
      "metadata": {
        "id": "GAhiq0cllO4m"
      },
      "outputs": [],
      "source": [
        "q1 = '86M with known CCF presents with pulmonary oedema as seen on chest x ray. Ejection fraction of 30%. Patient also has an eGFR of 10.'\n",
        "q2 = 'Peter, a 30-year-old male with no significant past medical or family history, presents with shortness of breath, productive cough, and fever. He is tachycardic with a heart rate of 120 bpm, tachypneic with a respiration rate of 28 bpm, and hypotensive with a blood pressure of 90/50 mmHg. His oxygen saturation is low at 80% but no oxygen therapy has been administered yet. He is febrile with a temperature of 39°C and is verbally responsive. Laboratory results show an elevated CRP of 300 and a high white cell count of 18. Chest X-ray revealed left lower lobe consolidation and ECG indicates sinus tachycardia. No known drug allergies (NKDA) are reported.'\n",
        "q3 = 'A 24-year-old woman presents with fatigue, pallor, and shortness of breath on exertion for the past month. She reports heavy menstrual bleeding lasting 7 days each cycle. Examination reveals conjunctival pallor. Lab results show haemoglobin at 7.5 g/dL, MCV 70 fL, and ferritin significantly reduced. Peripheral blood smear shows hypochromic microcytic red cells.'\n",
        "q4 = 'A 55-year-old man presents with sudden onset of severe chest pain radiating to the back, described as \"tearing\" in nature. He is hypertensive (190/110 mmHg) and tachycardic at 110 bpm. On examination, there is asymmetry of radial pulses and a blood pressure difference of 30 mmHg between the arms. ECG shows no ischaemic changes, but a widened mediastinum is evident on chest X-ray.'\n",
        "q5 = 'A previously healthy 28-year-old woman presents with sudden onset double vision, difficulty swallowing, and progressive bilateral muscle weakness descending from her face downwards. She denies fever or sensory deficits. She recently consumed homemade preserved vegetables. Examination shows symmetrical flaccid paralysis, bilateral ptosis, fixed dilated pupils, and absent deep tendon reflexes.'\n",
        "q6 = 'A 6-year-old child presents with a one-week history of progressive swelling around the eyes, which is more prominent in the morning. On examination, marked oedema around the eyes and pitting oedema of lower limbs are present. Urinalysis reveals heavy proteinuria (>3.5g/day), hypoalbuminaemia (albumin 20 g/L), hyperlipidaemia, but normal renal function tests and blood pressure within normal limits.'\n",
        "q7 = 'A 40-year-old man with known HIV infection and poor compliance with antiretroviral therapy presents with worsening headaches, confusion, and personality changes over two weeks. He has no fever or neck stiffness. MRI of the brain shows multiple ring-enhancing lesions. CD4 count is 50 cells/mm³.'\n",
        "q8 = 'A 35-year-old woman presents with weight gain, central obesity, purple striae on the abdomen, hypertension, and muscle weakness. She has noticed irregular menstruation. Examination reveals facial plethora, proximal muscle weakness, and dorsocervical fat pad. Laboratory tests show elevated serum cortisol that fails to suppress with a dexamethasone suppression test. ACTH levels are significantly elevated.'\n",
        "q9 = 'A 72-year-old man presents with gradual onset progressive memory impairment and difficulties with daily activities over the past 12 months. He frequently repeats questions, misplaces objects, and gets lost in familiar places. Physical examination is unremarkable. MRI brain demonstrates bilateral hippocampal atrophy. Blood tests including B12, folate, TFTs, and calcium are within normal limits.'\n",
        "q10 = 'A 54-year-old man develops a sudden-onset, worst-ever occipital headache while lifting weights at the gym. He vomits and complains of bright lights worsening the pain. Examination shows photophobia and neck stiffness, but he is fully alert. BP 165/90 mmHg. CT head is unremarkable at 6 hours; lumbar puncture shows xanthochromia.'\n",
        "q11 = 'A 22-year-old man with type 1 diabetes presents with abdominal pain, vomiting, and confusion. He is tachypnoeic, hypotensive (90/60 mmHg), and dry. VBG shows pH 7.10, glucose 24 mmol/L, ketones ++++, and bicarbonate 10 mmol/L.'\n",
        "q12 = 'A 40-year-old man reports 3 days of progressive bilateral leg weakness. Two weeks ago, he had diarrhoea during a camping trip. Reflexes are absent, tone reduced, and power 3/5 in both legs. Sensation is preserved. Plantars downgoing.'\n",
        "q13 = 'A 35-year-old woman presents with pleuritic chest pain and breathlessness after a long-haul flight. She is anxious, HR 112, SpO₂ 90%, RR 22. CXR is clear. D-dimer elevated. ECG shows sinus tachycardia.'\n",
        "q14 = 'A 34-year-old woman presents with heat intolerance, weight loss, anxiety, and amenorrhoea. She has a fine tremor, lid lag, and a diffuse goitre. TSH is suppressed, free T4 elevated. TPO and TRAb antibodies are positive.'\n",
        "q15 = 'A 72-year-old man reports progressive memory loss and slowness over one year. He has a resting tremor, rigidity, and shuffling gait with reduced arm swing. Speech is hypophonic. MRI brain is unremarkable.'\n",
        "q16 = 'A 50-year-old man presents with worsening breathlessness and a dry cough. He has clubbing and upper lobe crepitations. He worked as a sandblaster for decades. CXR shows upper zone fibrosis.'\n",
        "q17 = 'A 35-year-old woman presents with bloating, fatigue, and loose stools. Exam reveals pallor and mild abdominal distension. Hb 9.8, MCV 70, ferritin low. Anti-TTG IgA positive. She had negative stool cultures.'\n",
        "q18 = 'A 57-year-old woman presents with fatigue, postural dizziness, and hyperpigmentation. She has salt cravings and abdominal discomfort. BP 85/50, Na⁺ 122, K⁺ 5.8, glucose 3.1. Early morning cortisol low and ACTH markedly elevated.'\n",
        "q19 = 'A 68-year-old woman with longstanding poorly controlled type 2 diabetes presents with weight loss and painless jaundice. Exam reveals a palpable, non-tender gallbladder. LFTs show cholestatic pattern. CT abdomen is in progress.'\n",
        "q20 = 'A 39-year-old woman presents with amenorrhoea, cold intolerance, and weight gain 6 months after a complicated post-partum haemorrhage. TSH is low, T4 is low. Prolactin mildly raised.'\n",
        "q21 = 'A 62-year-old man presents with cough and haemoptysis. He also reports weight loss and arthralgia. Exam reveals saddle-nose deformity and purpuric rash. CXR shows cavitating lung lesions. Creatinine 180.'"
      ]
    },
    {
      "cell_type": "code",
      "execution_count": null,
      "metadata": {
        "id": "TH98BHQNTFOm"
      },
      "outputs": [],
      "source": [
        "d1 = 'Acute or chonic kidney disease.'\n",
        "d2 = 'CAP, sepsis/septic shock'\n",
        "d3 = 'IDA'\n",
        "d4 = 'Aortic dissection'\n",
        "d5 = 'Botulism'\n",
        "d6 = 'Nephrotic syndrome'\n",
        "d7 = 'Cerebral toxoplasmosis'\n",
        "d8 = 'Cushing’s disease'\n",
        "d9 = 'Alzheimer’s disease'\n",
        "d10 = 'Subarachnoid haemorrhage'\n",
        "d11 = 'Diabetic ketoacidosis (DKA)'\n",
        "d12 = 'Guillain-Barré syndrome'\n",
        "d13 = 'Pulmonary embolism'\n",
        "d14 = 'Graves’ disease (thyrotoxicosis)'\n",
        "d15 = 'Parkinsons Disease'\n",
        "d16 = 'Silicosis'\n",
        "d17 = 'Coeliac disease'\n",
        "d18 = 'Primary adrenal insufficiency (Addison’s disease)'\n",
        "d19 = 'Pancreatic adenocarcinoma'\n",
        "d20 = 'Sheehan’s syndrome'\n",
        "d21 = 'Granulomatosis with polyangiitis (Wegener’s)'\n",
        "\n",
        "qs = [q1, q2, q3, q4, q5, q6, q7, q8, q9, q10, q11, q12, q13, q14, q15, q16, q17, q18, q19, q20, q21]\n",
        "ds = [d1, d2, d3, d4, d5, d6, d7, d8, d9, d10, d11, d12, d13, d14, d15, d16, d17, d18, d19, d20, d21]"
      ]
    },
    {
      "cell_type": "code",
      "execution_count": null,
      "metadata": {
        "colab": {
          "base_uri": "https://localhost:8080/"
        },
        "id": "cxKcftteD0qe",
        "outputId": "4bce6496-00ab-49dd-fc41-976546c11ee4"
      },
      "outputs": [
        {
          "name": "stdout",
          "output_type": "stream",
          "text": [
            "Steroid resistance is noted as the persistence...\n",
            "Renal transplantation is the preferred treatment option...\n",
            "diabetes mellitus with symptomatic neuropathy suggests diabetic...\n",
            "One approach is to do a unilateral...\n",
            "In children, MCD is the most common...\n",
            "leads to proteinuria. Proteinuria leads to albuminuria,...\n",
            "This fluid has to be supplemented with...\n"
          ]
        }
      ],
      "source": [
        "#test\n",
        "\n",
        "import re\n",
        "\n",
        "def make_snippet(CONTENT, approx_words=7, max_sentences=3):\n",
        "    c = CONTENT.replace(\"\\n\", \" \")\n",
        "    c = re.sub(r\"\\[[^\\]]*\\]\", \"\", c)          # drop [12]\n",
        "    c = re.sub(r\"[\\\"“”‘’]\", \"\", c)            # drop quotes\n",
        "    c = re.sub(r\"\\s+\", \" \", c).strip()\n",
        "\n",
        "    # split into sentences (rough heuristic: .!? followed by space+capital)\n",
        "    sentences = re.split(r'(?<=[.!?])\\s+(?=[A-Z])', c)\n",
        "    c = \" \".join(sentences[:max_sentences]).strip()\n",
        "\n",
        "    # gentle word cap\n",
        "    words = c.split()\n",
        "    if len(words) > approx_words + 3:\n",
        "        c = \" \".join(words[:approx_words])\n",
        "\n",
        "    # always end with ellipsis\n",
        "    return (c.rstrip(\".!? \") + \"...\") if c else \"...\"\n",
        "\n",
        "print(make_snippet('Steroid resistance is noted as the persistence of proteinuria in children after 4 weeks of prednisone and after 16 weeks for adults.\\n            Frequent relapses occur, which are defined as two or more relapses in the first six months of presentation or four or more relapses within any 12 months\\n            Steroid dependency is defined as relapses that occur during the tapering phase of steroid therapy or less than two weeks after discontinuing steroids\\n            Relapse nephrosis - > 2+ proteinuria on 3 consecutive days\\n            Prednisolone should be restarted if there is a relapse: 2 mg/kg daily (maximum 60 mg) until in remission for 3 days, then 1.5 mg/kg alternate days for 4 weeks, then stop or taper the dose over 4-8 weeks.\\nFor frequent relapses/ steroid-dependent (steroid-sparing agents)\\n            Cyclophosphamide: the dose of 2 mg/kg/ day for 8 to 12 weeks (should be started after reaching remission with the steroid)- potential gonadal toxicity, alopecia, bone marrow suppression.\\n            Cyclosporine: At a dose of 4 to 5 mg/kg/day, usually for 1-2 years. Levels should be monitored after 1 to 2 weeks. Aim for a trough of 70 to 150. Can cause nephrotoxicity, hirsutism, hypertension, and gingival hyperplasia.\\n        If intolerant to the above-mentioned drugs, can give:\\n            Mycophenolate mofetil (MMF): Doses of 500 to 1000 mg two times a day for 1 to 2 years. Should be monitored for leukopenia.[14]\\n            Rituximab (chimeric monoclonal antibody): 375 mg/weekly for 1 to 4 doses.[15] Side effects such as fulminant myocarditis, pulmonary fibrosis, fatal Pneumocystis jirovecii infections, ulcerative colitis, and allergic reactions.[2]'))\n",
        "print(make_snippet('Renal transplantation is the preferred treatment option for ESRD due to its survival benefit compared to long-term dialysis therapy. Patients with CKD are typically eligible for renal transplant evaluation when the eGFR falls below 20 mL/min/1.73 m². If a patient has a living donor who may be able to donate a kidney, referral to a transplant center can be considered even earlier.'))\n",
        "print(make_snippet('diabetes mellitus with symptomatic neuropathy suggests diabetic nephropathy.\\nPhysical Examination\\n        Edema is the most prominent feature of nephrotic syndrome, and in the beginning, it develops around the eyes and legs. Over time, the edema becomes generalized and leads to increasing weight and the development of ascites or pleural effusions. Hematuria and hypertension may be present less frequently, although these are more prominently seen in nephritic syndrome.[35]\\n        Additional features'))\n",
        "print(make_snippet('One approach is to do a unilateral nephrectomy to reduce protein loss and decrease the frequency of the albumin infusion. Another approach is to do an early bilateral nephrectomy and start peritoneal dialysis. When the baby is 7 kg of weight, bilateral nephrectomy is done, and start peritoneal dialysis.[8] Renal transplantation with the extraperitoneal placement of the kidney graft is performed later when the child weighs more than 9 kg. The third approach is to perform early, preemptive kidney transplantation with an intraperitoneal placement and removing the nephrotic kidneys at the same operation.'))\n",
        "print(make_snippet('In children, MCD is the most common cause of idiopathic nephrotic syndrome. Minimal change disease is the third most common cause of idiopathic nephrotic syndrome in adults after focal segmental glomerular sclerosis and membranous nephropathy. \"An early kidney biopsy is crucial to making the diagnosis of MCD in adults.\"[1]\\n        In children, MCD is primarily a clinical diagnosis, and biopsy is only required in the presence of atypical clinical features:\\n            Age of onset before 1 or after12 years old\\n            Gross hematuria\\n            Low serum C3\\n            Marked Hypertension\\n            Elevated creatinine\\n            Renal failure without hypovolemia\\n            Positive history or serology for secondary causes\\n            Steroid resistance[2]\\n        A successful response to steroids might be anticipated in children how to present with typical clinical findings of MCD and are:\\n            Age 1-12 years old\\n            Normotensive\\n            Normal Renal Function\\n            +/- Microscopic hematuria\\nBasic labs:\\n            Urinalysis/ Urine microscopy: Dipstick will show 3+/4+ proteinuria. A urine dipstick and urinalysis (UA) are often the initial tests obtained to screen for MCD. In MCD, the urine typically looks frothy secondary to proteinuria, and the microscopy shows oval fat bodies and fatty casts. Dysmorphic RBCs, acanthocytes, abnormal casts, and proteinuria are findings suggestive of glomerular injury not frequently seen in MCD.[9] Keep in mind that a urine dipstick has its limitations. The dipstick cannot identify the extent or type of proteinuria as it primarily detects albumin and does not detect low molecular weight proteins.[11] False-positive test results are noted in the presence of mucus, blood, pus, alkalinity, or concentration.[12] A 24-hour urine collection is required to quantitate urinary protein.\\n            Urine collection: A spot protein/creatinine ratio greater than 200 mg/mmol in children and protein/creatinine ratio>300-350mg/mmol in adults is consistent with nephrotic syndrome, as is a 24-hour urine collection that reveals a total protein greater than 3 to 3.5 g/24hour in adults. A report of measuring protein output as gms/m2/hr accounts for differences in body mass. A measurement of 40mg/m2/hour or greater (1gm/m2/24hour) is indicative of proteinuria consistent with nephrotic syndrome in children. Microscopic hematuria is present in 10% to 30% of adults.[13]\\n            Complete metabolic panel (CMP): CMP demonstrates a low total protein, low albumin (frequently <2.5 g/dl), and low total calcium (ionized calcium binds to albumin, and albumin is low).\\n            Complete blood count (CBC): CBC will show hemoconcentration and thrombocytosis. This is seen due to the intravascular volume contraction from fluid sequestration into the interstitial space.\\n            Total cholesterol and triglyceride levels: These are increased due to an increase in hepatic lipoprotein synthesis as a result of low oncotic pressures.'))\n",
        "print(make_snippet('leads to proteinuria.\"[2] \\n        Proteinuria leads to albuminuria, hypoalbuminemia, and edema. Hyperlipidemia is due to the increased lipoprotein synthesis secondary to hypoalbuminemia, which causes increased platelet aggregation and thrombosis. The loss of minerals and vitamins predispose to malnutrition and infections.[6] Hypothyroidism develops due to the loss of thyroid-binding globulin in the urine.[4]\\n        Histopathology\\n        The most typical feature in the histology of congenital nephrotic syndrome of the Finnish type is irregular microcystic dilatation of the proximal tubule.[3] The glomeruli are normal or may show matrix expansion and mesangial hypercellularity.[7]\\n        History and Physical\\n        Prenatal and perinatal history: placental weight below 25% of newborn weight, enlarged prenatal nuchal translucency, fetal edema, increased amniotic fluid alpha-fetoprotein, and oligohydramnios \\n        Family history: history of congenital nephrotic syndrome, consanguinity, ethnicity, early infantile death,  neurological and kidney diseases of infancy.\\n        Patient history: swelling, poor growth\\n        Physical examination: signs of edema (e.g., pericardial, pleural effusions, and ascites.\\n        Evaluation\\n        Congenital nephrotic syndrome of the Finnish type can be diagnosed prenatally by elevated maternal serum alfa fetoprotein, MSAFP (>2.5 MoM) at the second trimester of pregnancy.\\n        Thyroid-stimulating hormone (TSH) may be normal in the beginning but typically increases during the first month. Free thyroxine (T4) is low.\\n        Blood biochemistry: blood count, levels of sodium, chloride, magnesium, protein, albumin,  creatinine, urea, cholesterol, fasting triglycerides, and glucose.\\n        Other factors included in the evaluation include:\\n            Serum IgG level. Serum levels of  phosphate, ionized calcium, 25(OH) vitamin D3, alkaline phosphatase, and PTH\\n            Serum urea and creatinine levels are variable. Renal function is often normal for the first months.[2]\\n            The serum analysis demonstrates hypoalbuminemia (<2.5 mg/dL and low thyroid hormone level.[4]\\n            The urinalysis demonstrates proteinuria (>2000 mg/L), hematuria, and leukocyturia with a negative urine culture.[4]\\n            Ultrasound scanning shows kidneys of normal size or larger, and the renal cortex is hyperechogenic.[2] \\n            Cardiac ultrasound (effusions and left ventricular mass)\\n        Kidney biopsy demonstrates microcystic dilatation of proximal tubules, increased mesangial hypercellularity, and a mild increase in the mesangial matrix in light microscopy. Electron microscopy demonstrates the effacement of podocyte foot processes. [4]\\n        The modality of choice for precise Congenital nephrotic syndrome of the Finnish type diagnosis is the genetic analysis by detection of mutations in NPHS1.[4]\\n        Treatment / Management\\n        Congenital nephrotic syndrome therapy goals are to control edema, prevent and treat complications including infections and thromboses, and provide optimal nutrition for the child to help grow. Kidney transplantation is the only curative treatment in most cases.[2]\\nAlbumin Infusions\\n        Proteinuria leads to life-threatening complications, including protein malnutrition, edema, and reduced growth.\\n        Protein substitution by parenteral albumin infusions is required for heavy and constant proteinuria (10 to 100 g/L).  Usually (3 to 4 g/kg per day of albumin), 20% albumin solution together with a bolus of intravenous furosemide (0.5 mg/kg) using central venous catheters is given.\\nMedications \\n        Angiotensin-converting enzyme (ACE) inhibitors and indomethacin are used to reduce the protein excretion in urine. \\n        Thyroxine substitution is recommended in congenital nephrotic syndrome patients for low levels of serum thyroid-binding globulin and thyroxine.'))\n",
        "print(make_snippet('This fluid has to be supplemented with dextrose once the level reaches around 200 to 250 mg/dl. Along with fluids, an intravenous infusion of regular insulin has to be initiated to maintain the blood glucose level between 150 to 200 mg/dl and until the high anion-gap acidosis is resolved in DKA. Like mentioned above, potassium levels are usually high because of the transcellular shifts due to the acidosis and the lack of insulin. When the potassium levels are low, this means that the total body potassium is low, and hence, insulin therapy should be postponed till at least the level of serum potassium is greater than 3.3 mEq/L. Otherwise, a further drop in levels would put the patient at risk for cardiac arrhythmias. In the 3.3 to 5 mEq/L; range, supplementation should be added in the maintenance fluids to target a steady 4.0 to 5.0 mEq/L range, and if higher than that, insulin and intravenous fluids alone can be started with just the frequent monitoring of the serum potassium level. The treatment of the acidosis itself is more controversial. Treatment with sodium bicarbonate therapy is controversial. It has been studied and found to provide no added benefit when the arterial blood pH is greater than 6.9 and may be associated with more harm...[7] A 2011 systematic review found that bicarbonate administration worsened ketonemia. Several studies have found higher potassium requirements in patients receiving bicarbonate. Studies in children have observed a possible association between bicarbonate therapy and cerebral edema.[8]'))"
      ]
    },
    {
      "cell_type": "code",
      "execution_count": null,
      "metadata": {
        "id": "EBiISmXNAOAE"
      },
      "outputs": [],
      "source": [
        "from openai import AsyncAzureOpenAI\n",
        "\n",
        "import nest_asyncio\n",
        "nest_asyncio.apply()\n",
        "\n",
        "import asyncio\n",
        "import aiofiles\n",
        "\n",
        "from tqdm import tqdm\n",
        "\n",
        "deployment_name = \"gpt-4.1\"\n",
        "from pydantic import BaseModel\n",
        "import numpy as np\n",
        "\n",
        "class Diagnoses(BaseModel):\n",
        "    main_diagnosis: list[str]\n",
        "    reasons: list[list[str]]\n",
        "    alternatives: list[list[str]]\n",
        "\n",
        "openai_client = AsyncAzureOpenAI(\n",
        "     api_version=\"2025-01-01-preview\",\n",
        "     azure_endpoint=AZURE_OPENAI_ACCOUNT,\n",
        "     api_key=AZURE_OPENAI_KEY\n",
        " )\n",
        "\n",
        "async def generate_mx_async(query: str) -> str:\n",
        "    dx_response = await openai_client.chat.completions.parse(\n",
        "        messages=[\n",
        "            {\"role\": \"system\", \"content\": STRUCTURED_DX_PROMPT},\n",
        "            {\"role\": \"user\", \"content\": query},\n",
        "        ],\n",
        "        model=deployment_name,\n",
        "        response_format=Diagnoses,\n",
        "    )\n",
        "\n",
        "    structured_response = dx_response.choices[0].message.parsed.model_dump()\n",
        "    list1 = structured_response[\"main_diagnosis\"]\n",
        "    list2 = structured_response[\"alternatives\"]\n",
        "    condensed_diags = [list1[i].replace(\"*\", \"\") + \" \" + \" \".join(list2[i]) for i in range(len(list1))]\n",
        "\n",
        "    async def fetch_sources_for_diag(diag: str):\n",
        "        # if search.hybrid_search is sync, wrap it with asyncio.to_thread\n",
        "        results = await search.ahybrid_search(diag, k=4)\n",
        "        batch_sources = []\n",
        "        for document in results:\n",
        "          url = d.get(document.metadata[\"title\"], 'https://www.statpearls.com/point-of-care') #fallback\n",
        "\n",
        "          #URL CHANGE needed for Nursing articles\n",
        "          if 'nursing' in document.metadata[\"title\"].lower():\n",
        "            url = url.replace('point-of-care', 'articlelibrary/nursingarticle')\n",
        "\n",
        "          batch_sources.append(f\"TITLE: '{document.metadata['title']}', URL: '{url}', CONTENT: '{document.page_content}', SNIPPET: '{make_snippet(document.page_content, approx_words=7, max_sentences=3)}'\")\n",
        "          # print('----------------------------------------------------------------')\n",
        "          # print('SNIPPET')\n",
        "          # print(make_snippet(document.page_content, approx_words=7, max_sentences=3))\n",
        "          # print('----------------------------------------------------------------')\n",
        "        return batch_sources\n",
        "\n",
        "    diag_sources_lists = await asyncio.gather(*(fetch_sources_for_diag(d) for d in condensed_diags))\n",
        "    sources = [s for lst in diag_sources_lists for s in lst]\n",
        "    sources = np.unique(sources)\n",
        "    sources_str = \"\\n\\n\".join(sources)\n",
        "\n",
        "    response = await openai_client.chat.completions.create(\n",
        "        messages=[\n",
        "            {\"role\": \"system\", \"content\": UNIVERSAL_SYSTEM_PROMPT},\n",
        "            {\"role\": \"user\", \"content\": EHR_PROMPT.format(ehr=query) + QUERY_PROMPT},\n",
        "            {\"role\": \"system\", \"content\": SYSTEM_PROMPT},\n",
        "            {\"role\": \"user\", \"content\": SOURCES_PROMPT.format(sources=sources_str)},\n",
        "        ],\n",
        "        model=deployment_name,\n",
        "    )\n",
        "    return response.choices[0].message.content\n",
        "\n",
        "\n",
        "async def get_eval_async(p: str, d: str) -> str:\n",
        "    response = await openai_client.chat.completions.create(\n",
        "        messages=[\n",
        "            {\"role\": \"system\", \"content\": EVAL_SYSTEM_PROMPT.format(d)},\n",
        "            {\"role\": \"user\", \"content\": p},\n",
        "        ],\n",
        "        model='gpt-5',\n",
        "    )\n",
        "    return response.choices[0].message.content\n",
        "\n",
        "async def write_text(path: str, text: str):\n",
        "    os.makedirs(os.path.dirname(path), exist_ok=True)\n",
        "    async with aiofiles.open(path, \"w\", encoding=\"utf-8\") as f:\n",
        "        await f.write(text)\n",
        "\n",
        "async def run_single(i: int, j: int, query: str, disease: str):\n",
        "    p = await generate_mx_async(query)\n",
        "    await write_text(f\"/content/GARAG_mx/mx_q{i}_{j}.txt\", p)\n",
        "\n",
        "    res = await get_eval_async(p, disease)\n",
        "    await write_text(f\"/content/GARAG_res/res_q{i}_{j}.txt\", res)\n",
        "\n",
        "    if \"no\" in res.lower():\n",
        "        print(f\"\\n=== Potential issue in (i={i}, j={j}) ===\")\n",
        "        print(res)   # <-- print the full eval statement immediately\n",
        "\n",
        "    return {\"i\": i, \"j\": j, \"plan\": p, \"eval\": res}\n",
        "\n",
        "async def run_all(qs, ds, repeats: int = 3):\n",
        "    all_results = []\n",
        "    for j in range(repeats):\n",
        "        print(f\"\\n=== Running batch {j+1}/{repeats} ===\")\n",
        "        tasks = [run_single(i, j, qs[i], ds[i]) for i in range(len(qs))]\n",
        "        batch_results = await asyncio.gather(*tasks)\n",
        "        all_results.extend(batch_results)\n",
        "\n",
        "    # ---- Final summary ----\n",
        "    issues = [(r[\"i\"], r[\"j\"]) for r in all_results if \"no\" in r[\"eval\"].lower()]\n",
        "    issues_sorted = sorted(issues, key=lambda x: (x[0], x[1]))\n",
        "\n",
        "    print(f\"\\n=== FINAL SUMMARY ===\")\n",
        "    print(f\"Total runs: {len(all_results)} (21 × {repeats})\")\n",
        "    print(f\"Runs with potential issues: {len(issues_sorted)}\")\n",
        "    if issues_sorted:\n",
        "        print(\"Indices (i, j):\", issues_sorted)\n",
        "\n",
        "    return all_results"
      ]
    },
    {
      "cell_type": "code",
      "execution_count": null,
      "metadata": {
        "colab": {
          "base_uri": "https://localhost:8080/"
        },
        "id": "KidVxSyhziVX",
        "outputId": "80902617-4806-4360-e894-594c2dcd823d"
      },
      "outputs": [
        {
          "name": "stdout",
          "output_type": "stream",
          "text": [
            "\n",
            "=== Running batch 1/3 ===\n",
            "\n",
            "=== Potential issue in (i=14, j=0) ===\n",
            "Yes\n",
            "Yes\n",
            "No\n",
            "Yes\n",
            "Explanation: Q3: first appearance out of order; [3] appears before [2]\n",
            "\n",
            "=== Running batch 2/3 ===\n",
            "\n",
            "=== Running batch 3/3 ===\n",
            "\n",
            "=== FINAL SUMMARY ===\n",
            "Total runs: 63 (21 × 3)\n",
            "Runs with potential issues: 1\n",
            "Indices (i, j): [(14, 0)]\n"
          ]
        }
      ],
      "source": [
        "results = await run_all(qs, ds, repeats=3)"
      ]
    },
    {
      "cell_type": "code",
      "execution_count": null,
      "metadata": {
        "colab": {
          "base_uri": "https://localhost:8080/",
          "height": 17
        },
        "id": "JmJN1T-HSqgf",
        "outputId": "4d9058b1-052e-4f7e-a297-07c91a758bac"
      },
      "outputs": [
        {
          "data": {
            "application/javascript": [
              "\n",
              "    async function download(id, filename, size) {\n",
              "      if (!google.colab.kernel.accessAllowed) {\n",
              "        return;\n",
              "      }\n",
              "      const div = document.createElement('div');\n",
              "      const label = document.createElement('label');\n",
              "      label.textContent = `Downloading \"${filename}\": `;\n",
              "      div.appendChild(label);\n",
              "      const progress = document.createElement('progress');\n",
              "      progress.max = size;\n",
              "      div.appendChild(progress);\n",
              "      document.body.appendChild(div);\n",
              "\n",
              "      const buffers = [];\n",
              "      let downloaded = 0;\n",
              "\n",
              "      const channel = await google.colab.kernel.comms.open(id);\n",
              "      // Send a message to notify the kernel that we're ready.\n",
              "      channel.send({})\n",
              "\n",
              "      for await (const message of channel.messages) {\n",
              "        // Send a message to notify the kernel that we're ready.\n",
              "        channel.send({})\n",
              "        if (message.buffers) {\n",
              "          for (const buffer of message.buffers) {\n",
              "            buffers.push(buffer);\n",
              "            downloaded += buffer.byteLength;\n",
              "            progress.value = downloaded;\n",
              "          }\n",
              "        }\n",
              "      }\n",
              "      const blob = new Blob(buffers, {type: 'application/binary'});\n",
              "      const a = document.createElement('a');\n",
              "      a.href = window.URL.createObjectURL(blob);\n",
              "      a.download = filename;\n",
              "      div.appendChild(a);\n",
              "      a.click();\n",
              "      div.remove();\n",
              "    }\n",
              "  "
            ],
            "text/plain": [
              "<IPython.core.display.Javascript object>"
            ]
          },
          "metadata": {},
          "output_type": "display_data"
        },
        {
          "data": {
            "application/javascript": [
              "download(\"download_5afa244b-255e-4c4c-b322-4d54a2198bde\", \"V56_GARAG_mx.zip\", 305164)"
            ],
            "text/plain": [
              "<IPython.core.display.Javascript object>"
            ]
          },
          "metadata": {},
          "output_type": "display_data"
        },
        {
          "data": {
            "application/javascript": [
              "\n",
              "    async function download(id, filename, size) {\n",
              "      if (!google.colab.kernel.accessAllowed) {\n",
              "        return;\n",
              "      }\n",
              "      const div = document.createElement('div');\n",
              "      const label = document.createElement('label');\n",
              "      label.textContent = `Downloading \"${filename}\": `;\n",
              "      div.appendChild(label);\n",
              "      const progress = document.createElement('progress');\n",
              "      progress.max = size;\n",
              "      div.appendChild(progress);\n",
              "      document.body.appendChild(div);\n",
              "\n",
              "      const buffers = [];\n",
              "      let downloaded = 0;\n",
              "\n",
              "      const channel = await google.colab.kernel.comms.open(id);\n",
              "      // Send a message to notify the kernel that we're ready.\n",
              "      channel.send({})\n",
              "\n",
              "      for await (const message of channel.messages) {\n",
              "        // Send a message to notify the kernel that we're ready.\n",
              "        channel.send({})\n",
              "        if (message.buffers) {\n",
              "          for (const buffer of message.buffers) {\n",
              "            buffers.push(buffer);\n",
              "            downloaded += buffer.byteLength;\n",
              "            progress.value = downloaded;\n",
              "          }\n",
              "        }\n",
              "      }\n",
              "      const blob = new Blob(buffers, {type: 'application/binary'});\n",
              "      const a = document.createElement('a');\n",
              "      a.href = window.URL.createObjectURL(blob);\n",
              "      a.download = filename;\n",
              "      div.appendChild(a);\n",
              "      a.click();\n",
              "      div.remove();\n",
              "    }\n",
              "  "
            ],
            "text/plain": [
              "<IPython.core.display.Javascript object>"
            ]
          },
          "metadata": {},
          "output_type": "display_data"
        },
        {
          "data": {
            "application/javascript": [
              "download(\"download_a0a872da-6657-489b-9ae7-82229c2cb5c2\", \"V56_GARAG_res.zip\", 7403)"
            ],
            "text/plain": [
              "<IPython.core.display.Javascript object>"
            ]
          },
          "metadata": {},
          "output_type": "display_data"
        }
      ],
      "source": [
        "# prompt: download all files in the 'mx' and 'res' folders\n",
        "\n",
        "from google.colab import files\n",
        "import os\n",
        "import zipfile\n",
        "\n",
        "def download_folder_contents(folder_path):\n",
        "  \"\"\"Downloads all files within a folder in Google Colab.\"\"\"\n",
        "  zip_filename = folder_path + '.zip'\n",
        "  with zipfile.ZipFile(zip_filename, 'w') as zipf:\n",
        "    for root, _, filenames in os.walk(folder_path):\n",
        "      for filename in filenames:\n",
        "        filepath = os.path.join(root, filename)\n",
        "        zipf.write(filepath, os.path.relpath(filepath, folder_path))\n",
        "  files.download(zip_filename)\n",
        "\n",
        "download_folder_contents('/content/GARAG_mx')\n",
        "download_folder_contents('/content/GARAG_res')\n"
      ]
    },
    {
      "cell_type": "code",
      "execution_count": null,
      "metadata": {
        "colab": {
          "background_save": true
        },
        "id": "U-BZ8wbbgOpu"
      },
      "outputs": [],
      "source": [
        "!cp -r /content/GARAG_mx /content/drive/MyDrive/\n",
        "!cp -r /content/GARAG_res /content/drive/MyDrive/"
      ]
    },
    {
      "cell_type": "code",
      "execution_count": null,
      "metadata": {
        "id": "pzXTt1C5TyDp"
      },
      "outputs": [],
      "source": []
    }
  ],
  "metadata": {
    "colab": {
      "collapsed_sections": [
        "WfF0Z38KO3H9",
        "liHvuAutAZkB",
        "u0ga7YT68eX_",
        "qWc3-PBoWJ7U",
        "VOdk8rT1eU19",
        "byG4QoGacOuq",
        "liCkqmnvhPo4",
        "HxR6o324lCjg",
        "jB6GKGJ8ZjVy"
      ],
      "provenance": []
    },
    "kernelspec": {
      "display_name": "Python 3",
      "name": "python3"
    },
    "language_info": {
      "name": "python"
    }
  },
  "nbformat": 4,
  "nbformat_minor": 0
}