{
  "nbformat": 4,
  "nbformat_minor": 0,
  "metadata": {
    "colab": {
      "provenance": [],
      "collapsed_sections": [
        "-X_4JFYswmpX",
        "27T82qNNgesT",
        "K8P5L_F6gYIf",
        "2xOz1o4iuFtx",
        "JYMs_PVUmG-i",
        "uxsSezVegjiB"
      ]
    },
    "kernelspec": {
      "name": "python3",
      "display_name": "Python 3"
    },
    "language_info": {
      "name": "python"
    }
  },
  "cells": [
    {
      "cell_type": "markdown",
      "source": [
        "## Keys"
      ],
      "metadata": {
        "id": "XjIiCXab5rph"
      }
    },
    {
      "cell_type": "code",
      "source": [
        "import os\n",
        "os.environ[\"AZURE_OPENAI_API_KEY\"] =\n",
        "os.environ[\"AZURE_OPENAI_ENDPOINT\"] =\n",
        "os.environ[\"PINECONE_API_KEY\"] ="
      ],
      "metadata": {
        "id": "4dyaSh7Z5tUa"
      },
      "execution_count": null,
      "outputs": []
    },
    {
      "cell_type": "markdown",
      "source": [
        "## Extracting CPT data"
      ],
      "metadata": {
        "id": "-X_4JFYswmpX"
      }
    },
    {
      "cell_type": "code",
      "execution_count": null,
      "metadata": {
        "id": "TGbFtaLGsMiW"
      },
      "outputs": [],
      "source": [
        "import requests\n",
        "\n",
        "url = 'https://www.cdc.gov/nhsn/xls/cpt-pcm-nhsn.xlsx'\n",
        "target_path = 'CPT-cdc-2025.xlsx'\n",
        "\n",
        "response = requests.get(url, stream=True)\n",
        "if response.status_code == 200:\n",
        "    with open(target_path, 'wb') as f:\n",
        "        f.write(response.raw.read())"
      ]
    },
    {
      "cell_type": "code",
      "source": [
        "# read csv file\n",
        "import pandas as pd\n",
        "\n",
        "df = pd.read_excel(target_path, 'ALL 2025 CPT Codes')"
      ],
      "metadata": {
        "id": "sM8725-6yBub"
      },
      "execution_count": null,
      "outputs": []
    },
    {
      "cell_type": "code",
      "source": [
        "df = df[['CPT Codes', 'Procedure Code Descriptions']]\n",
        "df.columns = ['Code', 'Title']"
      ],
      "metadata": {
        "id": "hwVC4uU47Pmv"
      },
      "execution_count": null,
      "outputs": []
    },
    {
      "cell_type": "code",
      "source": [
        "df = df.loc[~df.Code.isna(), :]"
      ],
      "metadata": {
        "id": "iQPDRrcbzSQT"
      },
      "execution_count": null,
      "outputs": []
    },
    {
      "cell_type": "markdown",
      "source": [
        "## Indexing data on Pinecone"
      ],
      "metadata": {
        "id": "27T82qNNgesT"
      }
    },
    {
      "cell_type": "code",
      "source": [
        "!pip install langchain_community pinecone langchain_pinecone tiktoken --quiet"
      ],
      "metadata": {
        "colab": {
          "base_uri": "https://localhost:8080/"
        },
        "id": "PV0i_LLp1PvA",
        "outputId": "ced84c83-2b90-45d8-e24b-e060155d2a06"
      },
      "execution_count": null,
      "outputs": [
        {
          "output_type": "stream",
          "name": "stdout",
          "text": [
            "\u001b[2K   \u001b[90m━━━━━━━━━━━━━━━━━━━━━━━━━━━━━━━━━━━━━━━━\u001b[0m \u001b[32m2.5/2.5 MB\u001b[0m \u001b[31m16.7 MB/s\u001b[0m eta \u001b[36m0:00:00\u001b[0m\n",
            "\u001b[2K   \u001b[90m━━━━━━━━━━━━━━━━━━━━━━━━━━━━━━━━━━━━━━━━\u001b[0m \u001b[32m427.3/427.3 kB\u001b[0m \u001b[31m18.8 MB/s\u001b[0m eta \u001b[36m0:00:00\u001b[0m\n",
            "\u001b[2K   \u001b[90m━━━━━━━━━━━━━━━━━━━━━━━━━━━━━━━━━━━━━━━━\u001b[0m \u001b[32m1.2/1.2 MB\u001b[0m \u001b[31m39.2 MB/s\u001b[0m eta \u001b[36m0:00:00\u001b[0m\n",
            "\u001b[2K   \u001b[90m━━━━━━━━━━━━━━━━━━━━━━━━━━━━━━━━━━━━━━━━\u001b[0m \u001b[32m1.3/1.3 MB\u001b[0m \u001b[31m35.5 MB/s\u001b[0m eta \u001b[36m0:00:00\u001b[0m\n",
            "\u001b[2K   \u001b[90m━━━━━━━━━━━━━━━━━━━━━━━━━━━━━━━━━━━━━━━━\u001b[0m \u001b[32m1.0/1.0 MB\u001b[0m \u001b[31m38.2 MB/s\u001b[0m eta \u001b[36m0:00:00\u001b[0m\n",
            "\u001b[2K   \u001b[90m━━━━━━━━━━━━━━━━━━━━━━━━━━━━━━━━━━━━━━━━\u001b[0m \u001b[32m415.1/415.1 kB\u001b[0m \u001b[31m21.9 MB/s\u001b[0m eta \u001b[36m0:00:00\u001b[0m\n",
            "\u001b[2K   \u001b[90m━━━━━━━━━━━━━━━━━━━━━━━━━━━━━━━━━━━━━━━━\u001b[0m \u001b[32m87.5/87.5 kB\u001b[0m \u001b[31m5.6 MB/s\u001b[0m eta \u001b[36m0:00:00\u001b[0m\n",
            "\u001b[2K   \u001b[90m━━━━━━━━━━━━━━━━━━━━━━━━━━━━━━━━━━━━━━━━\u001b[0m \u001b[32m50.9/50.9 kB\u001b[0m \u001b[31m3.1 MB/s\u001b[0m eta \u001b[36m0:00:00\u001b[0m\n",
            "\u001b[2K   \u001b[90m━━━━━━━━━━━━━━━━━━━━━━━━━━━━━━━━━━━━━━━━\u001b[0m \u001b[32m50.5/50.5 kB\u001b[0m \u001b[31m3.1 MB/s\u001b[0m eta \u001b[36m0:00:00\u001b[0m\n",
            "\u001b[?25h"
          ]
        }
      ]
    },
    {
      "cell_type": "code",
      "source": [
        "from langchain.docstore.document import Document\n",
        "from langchain_community.embeddings import (\n",
        "    AzureOpenAIEmbeddings,\n",
        "    HuggingFaceEmbeddings,\n",
        ")\n",
        "\n",
        "def embedding_func():\n",
        "\n",
        "    # device = \"cuda\" if torch.cuda.is_available() else \"mps\" if torch.backends.mps.is_available() else \"cpu\"\n",
        "    # embedding_func = HuggingFaceEmbeddings(model_name=\"BAAI/bge-small-en-v1.5\", model_kwargs={\"device\": device})\n",
        "\n",
        "    return AzureOpenAIEmbeddings(\n",
        "        azure_deployment=\"text-embedding-3-large\",\n",
        "        openai_api_version=\"2023-05-15\",\n",
        "        chunk_size=2048 #much larger than the longest title\n",
        "    )\n",
        "\n",
        "\n",
        "def create_langchain_documents(df, target_col):\n",
        "    \"\"\"create langchain documents from data\"\"\"\n",
        "    cols = df.columns\n",
        "    return df.apply(lambda row: Document(page_content=row[target_col], metadata=row[cols].to_dict()), axis=1).tolist()"
      ],
      "metadata": {
        "id": "SXpo62ywzq3C"
      },
      "execution_count": null,
      "outputs": []
    },
    {
      "cell_type": "code",
      "source": [
        "target_col = \"Title\"\n",
        "docs = create_langchain_documents(df, target_col)"
      ],
      "metadata": {
        "id": "XtoX3ucu37pM"
      },
      "execution_count": null,
      "outputs": []
    },
    {
      "cell_type": "code",
      "source": [
        "#If error, check on Pinecone\n",
        "from pinecone import Pinecone, ServerlessSpec\n",
        "from langchain_pinecone import PineconeVectorStore\n",
        "\n",
        "pc = Pinecone(api_key=os.environ[\"PINECONE_API_KEY\"])\n",
        "\n",
        "index_name = \"cpt-cdc-2025-text-embedding-3-large\" #naming error, should say cpt, but don't want to recreate the index!!!\n",
        "\n",
        "# if index_name in pc.list_indexes().names():\n",
        "#   pc.delete_index(index_name)\n",
        "\n",
        "_embedding_func = embedding_func()\n",
        "\n",
        "if index_name not in pc.list_indexes().names():\n",
        "  pc.create_index(\n",
        "      name=index_name,\n",
        "      dimension=3072,\n",
        "      metric=\"cosine\",\n",
        "      spec=ServerlessSpec(\n",
        "          cloud='aws',\n",
        "          region='eu-west-1'\n",
        "      )\n",
        "  )\n",
        "  vectorstore_from_docs = PineconeVectorStore.from_documents(docs, index_name=index_name, embedding=_embedding_func)\n",
        "else:\n",
        "  vectorstore_from_docs = PineconeVectorStore(index_name=index_name, embedding=_embedding_func)"
      ],
      "metadata": {
        "colab": {
          "base_uri": "https://localhost:8080/"
        },
        "id": "0SIbTn262nUI",
        "outputId": "e2c1c3ce-7037-48cf-8feb-f363eeb1de12"
      },
      "execution_count": null,
      "outputs": [
        {
          "output_type": "stream",
          "name": "stderr",
          "text": [
            "<ipython-input-32-1025c13824d3>:15: LangChainDeprecationWarning: The class `AzureOpenAIEmbeddings` was deprecated in LangChain 0.0.9 and will be removed in 1.0. An updated version of the class exists in the :class:`~langchain-openai package and should be used instead. To use it run `pip install -U :class:`~langchain-openai` and import as `from :class:`~langchain_openai import AzureOpenAIEmbeddings``.\n",
            "  return AzureOpenAIEmbeddings(\n"
          ]
        }
      ]
    },
    {
      "cell_type": "markdown",
      "source": [
        "## LLM Generation Setup and Prompt"
      ],
      "metadata": {
        "id": "K8P5L_F6gYIf"
      }
    },
    {
      "cell_type": "code",
      "source": [
        "from openai import AzureOpenAI\n",
        "\n",
        "# Set up clients and specify the chat model\n",
        "openai_client = AzureOpenAI(\n",
        "     api_version=\"2024-06-01\",\n",
        "     azure_endpoint=[\"AZURE_OPENAI_ENDPOINT\"],\n",
        "     api_key=os.environ[\"AZURE_OPENAI_API_KEY\"]\n",
        " )\n",
        "\n",
        "deployment_name = \"gpt-4o-datazone\"\n",
        "\n",
        "def get_completion(prompt, model=deployment_name):\n",
        "    messages = [{\"role\": \"user\", \"content\": prompt}]\n",
        "    response = openai_client.chat.completions.create(\n",
        "        model=model,\n",
        "        messages=messages,\n",
        "        temperature=0)\n",
        "    return response.choices[0].message.content\n",
        "\n",
        "pream= '''\n",
        "You are an expert medical assistant who extracts a comprehensive list of all procedures, treatments and other services from patient discharge summaries.\n",
        "The discharge summaries are in markdown and may contain tables and additional metadata. If the input does not look like a discharge summary or some form of patient data, you politely decline the request.\n",
        "Give only procedures that can be inferred solely based on the information I have given - do not use any other information.\n",
        "Bear in mind that the list of procedures you give will be used by medical coders later on so make the procedures as detailed and specific as possible given the available patient data.\n",
        "Before finalising your answer check if you haven't missed any procedures, treatments and other services implied by the patient data. If you did, add them to your response.\n",
        "List the procedures with supporting evidence in form of a quote from the discharge summary.\n",
        "Do not generate any other text, notes or disclaimers apart from the list of procedures and one supporting quote for each.\n",
        "Your list should be numbered and every element in the list should fit into one line.\n",
        "\n",
        "For example, if the discharge summary mentions:\n",
        "“\n",
        "- Plan CT head Lumbar puncture\n",
        "- Bloods show a raised WCC and CRP\n",
        "- Decision to perform limited distal gastrectomy and convert to open. ... Antecolic gastrojejunostomy (30-40cm from DJ) TLC-75 side to side stapled anastomosis at dependent part of stomach on greater curve.\n",
        "- Repeat CTAP was done which showed a leak at the anterior wall of the gastrojejunal anastomosis leading to significant leak of oral contrast into the peritoneal cavity. There was extensive pneumoperitoneum within the abdomen secondary to this anastamotic leak. A drain was inserted. After a scan, the drain was readjusted to be better situated. Repeat scan a few days later revealed ongoing leakage. He was re-scheduled for IR drainage for collection at site of gastrectomy on day 24 post-op. Collection sites considerably reduced after this.\n",
        "- Following the procedure, he was admitted to ICU and his O2 requirements were managed.\n",
        "”\n",
        "\n",
        "then your answer may be:\n",
        "\n",
        "1. Lumbar puncture for cerebrospinal fluid analysis and/or injection\n",
        "\"Lumbar puncture\"\n",
        "\n",
        "2. Computed tomography (CT) scan of the head\n",
        "\"CT head\"\n",
        "\n",
        "3. Complete blood count\n",
        "\"Bloods show a raised WCC and CRP\"\n",
        "\n",
        "4. Gastrectomy, partial; distal, with gastrojejunostomy\n",
        "\"limited distal gastrectomy and convert to open. ... Antecolic gastrojejunostomy (30-40cm from DJ)\"\n",
        "\n",
        "5. Computed tomography, abdomen; with contrast material(s)\n",
        "\"CTAP was done which showed a leak at the anterior wall of the gastrojejunal anastomosis leading to significant leak of oral contrast\"\n",
        "\n",
        "6. Drainage procedure for fluid collection\n",
        "\"significant leak of oral contrast into the peritoneal cavity. There was extensive pneumoperitoneum within the abdomen secondary to this anastamotic leak. A drain was inserted.\"\n",
        "\n",
        "7. Image-guided drainage\n",
        "\"re-scheduled for IR drainage\"\n",
        "\n",
        "8. Emergency department visit for the evaluation and management of a patient\n",
        "\"he was admitted to ICU\"\n",
        "'''"
      ],
      "metadata": {
        "id": "GH9nWuamgQIN"
      },
      "execution_count": null,
      "outputs": []
    },
    {
      "cell_type": "markdown",
      "source": [
        "## Example discharge summary"
      ],
      "metadata": {
        "id": "2xOz1o4iuFtx"
      }
    },
    {
      "cell_type": "code",
      "source": [
        "dc5 = '''\n",
        "<figure>\n",
        "\n",
        "![](figures/0)\n",
        "\n",
        "<!-- FigureContent=\"\\+ Indraprastha Apollo Hospitals touching lives DELHI -\" -->\n",
        "\n",
        "</figure>\n",
        "\n",
        "\n",
        "DISCHARGE SUMMARY\n",
        "===\n",
        "\n",
        "|||\n",
        "| - | - |\n",
        "| NAME | : MASTER.ANKIT BISWASH |\n",
        "| UHID | : APD1.0000807307 |\n",
        "\n",
        "|||\n",
        "| - | - |\n",
        "| Age/Sex | : 3 Year(s) Male |\n",
        "| IPNO | : 208812 |\n",
        "\n",
        "Date of Admission : 22-Nov-2008\n",
        "\n",
        "Room/Ward\n",
        "\n",
        ": 4159 (Recommended-Govt Of Delhi)\n",
        "\n",
        "Date of Discharge :01-Apr-2009\n",
        "\n",
        "Consultants\n",
        "\n",
        "1\\. Dr.A.K. Banerji NEUROSURGEON 2. Dr. Varindera Paul Singh NEUROSURGEON\n",
        "\n",
        "Unit :NEUROSURGERY\n",
        "\n",
        "DIAGNOSIS : Posterior Third Ventricle Ependymoma Hydrocephalus\n",
        "\n",
        "HISTORY :- Right side facial weakness - 1 month Headache & vomiting - 20 days Difficulty in walking & frequent falls - 15 days CECT head revealed posterior third ventricle tumor with hydrocephalus\n",
        "\n",
        "ON EXAMINATION\n",
        "\n",
        "Child - sick BP - 100/60 mm Pupil - B/L 3 mm, reacting Fundus - B/L mild papilloedema Moving all four limbs\n",
        "\n",
        "COURSE IN HOSPITAL :-\n",
        "\n",
        "Pre-operatively was evaluated by Dr Nameet Jerath [Senior Consultant - Paediatric], and was taken up for surgery after his clearance.\n",
        "\n",
        "OPERATIVE PROCEDURE: Midline suboccipital craniectomy, infratentorial-supracerebellar approach and microsurgical\n",
        "\n",
        "Contd .. 2 ...\n",
        "\n",
        "<figure>\n",
        "\n",
        "![](figures/1)\n",
        "\n",
        "<!-- FigureContent=\"P Joint Commission INTERNATIONAL\" -->\n",
        "\n",
        "</figure>\n",
        "\n",
        "\n",
        "India's First Internationally Accredited Hospital Indraprastha Apollo Hospitals Sarita Vihar, Delhi - Mathura Road, New Delhi - 110 076 (INDIA) Tel. : 91-11- 26925858. 26925801, Fax : 91-11-26823629, Emergency Telephone No. : 1066. Website : www.apollohospdelhi.com\n",
        "<figure>\n",
        "\n",
        "![](figures/2)\n",
        "\n",
        "<!-- FigureContent=\"Indraprastha Apollo Hospitals touching lives DELHI -\" -->\n",
        "\n",
        "</figure>\n",
        "\n",
        "\n",
        "tumor decompression done under GA on 14.11.08.\n",
        "\n",
        "Right parieto-occipital burrhole made and external ventricular drain inserted.\n",
        "\n",
        "FINDINDS: Soft mildly vascular greyish tumor in posterior third ventricle.\n",
        "\n",
        "HISTOPATHOLOGY: Ependymoma ( WHO - Gr II, Tanycytic type)\n",
        "\n",
        "POST-OPERATIVE HOSPITAL STAY:\n",
        "\n",
        "Was electively ventilated post-operativley in Neuro ICU. Next day weaned off from ventilator & extubated. NCCT head done on 15.11.08 ruled out any operative site haematoma with surgical changes and decrease in mass effect. Developed seizure followed by cardiac arrest. Recovered after resucitation & modification of anticonvulsant drugs. Kept on Midazolam infusion & gradually tapered off & shifted to Paed. ICU. NCCT head on 19.11.08, after removal of external ventricular drain revealed decrease in size of ventricles. Had copious throat secretions, so put on ventilatory support for 48 hour & then weaned off. Improve gradually & shifted out to Govt.ICU ward on 22.11.08. Dr. D.K.Mahajan [ Senior Consultant - Dermatology ] opinion taken for allergic skin lesion. Dr. S. Haldhar [Consultant -Radiation Oncology] opinion was taken for post operative adjuvant radiotherapy. Developed loose motion & fever, was managed with help of Paediatrician.\n",
        "\n",
        "Contrast MRI brain done on 16.12.08 revealed surgical changes with persistent ventriculomegaly.\n",
        "\n",
        "OPERATIVE PROCEDURE:\n",
        "\n",
        "Right VP shunt [Medium Pressure - Pudenz] done under done under GA on 01.01.2009 FINDINGS: Clear CSF came in moderate pressure.\n",
        "\n",
        "POST-OPERATIVE HOSPITAL STAY\n",
        "\n",
        "Had mild improvement in the tonic posturing after the shunt surgery. IMRT was started in consultation with Dr Shikha Haldhar (Consultant Radiation Oncology). Had recurrent seizures with respiratory distress which was managed in consultation with Dr. N.Jerath (Senior Consultant,Pediatrics) and Dr. V.B.Gupta( Senior Consultant, Pediatric Neurology). Follow up NCCT head and MRI brain done revealed residual tumour in the region of posterior third ventricle with decreased ventricular size with increase in the bilateral subdural collections with no significant compression. Subdural tap was done and around 150cc of fluid aspirated, no neurological improvement seen after the procedure. Had recurrent episodes of laryngeal stridor. Dr. G. Raheja (Senior Consultant,ENT) was consulted who did tracheostomy on 23.03.2009. Follow up NCCT head done on 23.03.2009 revealed no change in the subdural collection.\n",
        "\n",
        "COMMENTS:\n",
        "\n",
        "Long term prognosis guarded. Needs regular follow up and neurorehabilitation.\n",
        "\n",
        "CONDITION OF THE PATIENT AT THE TIME OF DISCHARGE :- BP - 100/60 mm\n",
        "\n",
        "<!-- PageNumber=\"Contd .. 3 ...\" -->\n",
        "\n",
        "<figure>\n",
        "\n",
        "![](figures/3)\n",
        "\n",
        "<!-- FigureContent=\"Joint Commission INTERNATIONAL\" -->\n",
        "\n",
        "</figure>\n",
        "\n",
        "\n",
        "India's First Internationally Accredited Hospital Indraprastha Apollo Hospitals Sarita Vihar, Delhi - Mathura Road, New Delhi - 110 076 (INDIA) Tel. : 91-11- 26925858, 26925801, Fax : 91-11-26823629, Emergency Telephone No. : 1066 Website : www.apollohospdelhi.com\n",
        "<figure>\n",
        "\n",
        "![](figures/4)\n",
        "\n",
        "<!-- FigureContent=\"Indraprastha Apollo Hospitals touching lives - DELHI -\" -->\n",
        "\n",
        "</figure>\n",
        "\n",
        "\n",
        "Afebrile Improving gaze paresis Opening eyes spontaneously, Tonic posturing present. Ryle's tube feed with oral supplement Wound healthy, Sutures removed On Tracheostomy\n",
        "\n",
        "ADVICE ON DISCHARGE :-\n",
        "\n",
        "DIET: Ryle's tube feeding 100 ml 2 hourly with oral supplement as tolerated\n",
        "\n",
        "PHYSICAL ACTIVITY: Wheel chair mobilization\n",
        "\n",
        "MEDICATIONS: Syp Augmentin 5ml thrice daily X 1 week Gardenal 60mgm twice daily X 1 month Syp Tegrital (100mgm /5ml) 4ml thrice daily X 1 month Frisium 5 mgm in morning and noon, and, 10mgm at bedtime X 1 month Tizan 2mgm thrice daily X 2 weeks Baclofen 7 mgm thrice daily X 2 weeks Diamox 250mgm half tablet twice daily X 2 weeks Rantac 25 mgm twice daily X 2 weeks Syp Visyneral 5ml daily X 2 weeks Asthalin and saline nebulization thrice daily X 1 month Crocin 10 ml SOS for fever/ headache Refresh eye drop both eye four hourly X 1 week\n",
        "\n",
        "OTHERS:\n",
        "\n",
        "Physiotherapy and mobilisation as advised Care of Tracheostomy and Ryle's tube\n",
        "\n",
        "FOLLOW-UP: To follow up with Dr A K Banerji in Neurosciences OPD after 1 month Kindly confirm your appointment before coming. For appointments contact - 9910000409\n",
        "\n",
        "For any medical problem contact Dr H S Sohal (9818535985)\n",
        "\n",
        "Dr. A.K. Banerji SR.CONSULTANT NEUROSURGEON\n",
        "\n",
        "Contd .. 4 ...\n",
        "\n",
        "<figure>\n",
        "\n",
        "![](figures/5)\n",
        "\n",
        "<!-- FigureContent=\"Joint Commission INTERNATIONAL\" -->\n",
        "\n",
        "</figure>\n",
        "\n",
        "\n",
        "India's First Internationally Accredited Hospital Indraprastha Apollo Hospitals Sarita Vihar, Delhi - Mathura Road, New Delhi - 110 076 (INDIA) Tel. : 91-11-26925858, 26925801, Fax : 91-11-26823629, Emergency Telephone No .: 1066 Website : www.apollohospdelhi.com\n",
        "\n",
        "<!-- PageNumber=\"S2\" -->\n",
        ":selected: :selected: :selected: :selected:<figure>\n",
        "\n",
        "![](figures/6)\n",
        "\n",
        "<!-- FigureContent=\"Indraprastha Apollo Hospitals DELHI - touching lives\" -->\n",
        "\n",
        "</figure>\n",
        "\n",
        "\n",
        "Dr. Varindera Paul Singh SR.CONSULTANT NEUROSURGEON\n",
        "\n",
        "<figure>\n",
        "\n",
        "![](figures/7)\n",
        "\n",
        "<!-- FigureContent=\"30/1/09\" -->\n",
        "\n",
        "</figure>\n",
        "\n",
        "\n",
        "\\*HSS\n",
        "\n",
        "Registrar/Resident/C.M.O\n",
        "\n",
        "Date\n",
        "\n",
        ": 30-Mar-2009 10:27 AM.\n",
        "\n",
        "<figure>\n",
        "\n",
        "![](figures/8)\n",
        "\n",
        "<!-- FigureContent=\"Joint Commission INTERNATIONAL\" -->\n",
        "\n",
        "</figure>\n",
        "\n",
        "\n",
        "India's First Internationally Accredited Hospital Indraprastha Apollo Hospitals Sarita Vihar, Delhi - Mathura Road, New Delhi - 110 076 (INDIA) Tel. : 91-11- 26925858, 26925801, Fax : 91-11-26823629, Emergency Telephone No. : 1066 Website : www.apollohospdelhi.com\n",
        "\n",
        "<!-- PageNumber=\"S .-\" -->\n",
        "'''"
      ],
      "metadata": {
        "id": "eJ7AKfq2ivwp"
      },
      "execution_count": null,
      "outputs": []
    },
    {
      "cell_type": "markdown",
      "source": [
        "## Test"
      ],
      "metadata": {
        "id": "JYMs_PVUmG-i"
      }
    },
    {
      "cell_type": "code",
      "source": [
        "response = get_completion(pream + '\\n\\nDischarge summary:\\n\\n' + dc5)\n",
        "print(response)"
      ],
      "metadata": {
        "colab": {
          "base_uri": "https://localhost:8080/"
        },
        "id": "_MaNZdpMmII3",
        "outputId": "afa68af9-93da-44bc-9a60-5325f3e1e02b"
      },
      "execution_count": null,
      "outputs": [
        {
          "output_type": "stream",
          "name": "stdout",
          "text": [
            "1. Midline suboccipital craniectomy with infratentorial-supracerebellar approach and microsurgical tumor decompression\n",
            "\"Midline suboccipital craniectomy, infratentorial-supracerebellar approach and microsurgical tumor decompression done under GA on 14.11.08.\"\n",
            "\n",
            "2. Right parieto-occipital burrhole and external ventricular drain insertion\n",
            "\"Right parieto-occipital burrhole made and external ventricular drain inserted.\"\n",
            "\n",
            "3. Non-contrast computed tomography (NCCT) scan of the head\n",
            "\"NCCT head done on 15.11.08 ruled out any operative site haematoma with surgical changes and decrease in mass effect.\"\n",
            "\n",
            "4. Right ventriculoperitoneal (VP) shunt placement\n",
            "\"Right VP shunt [Medium Pressure - Pudenz] done under done under GA on 01.01.2009.\"\n",
            "\n",
            "5. Intensity-modulated radiation therapy (IMRT)\n",
            "\"IMRT was started in consultation with Dr Shikha Haldhar (Consultant Radiation Oncology).\"\n",
            "\n",
            "6. Subdural tap for fluid aspiration\n",
            "\"Subdural tap was done and around 150cc of fluid aspirated.\"\n",
            "\n",
            "7. Tracheostomy\n",
            "\"Dr. G. Raheja (Senior Consultant,ENT) was consulted who did tracheostomy on 23.03.2009.\"\n",
            "\n",
            "8. Contrast magnetic resonance imaging (MRI) of the brain\n",
            "\"Contrast MRI brain done on 16.12.08 revealed surgical changes with persistent ventriculomegaly.\"\n",
            "\n",
            "9. Physiotherapy and mobilization\n",
            "\"Physiotherapy and mobilisation as advised.\"\n",
            "\n",
            "10. Ryle's tube feeding\n",
            "\"Ryle's tube feed with oral supplement.\"\n"
          ]
        }
      ]
    },
    {
      "cell_type": "markdown",
      "source": [
        "## GAVS"
      ],
      "metadata": {
        "id": "uxsSezVegjiB"
      }
    },
    {
      "cell_type": "code",
      "source": [
        "print('Step 1: Creating the list of procedures')\n",
        "response = get_completion(pream + '\\n\\nDischarge summary:\\n\\n' + dc5)\n",
        "diagnosis = response.split('\\n\\n')\n",
        "pairs = [diag.split('\\n') for diag in diagnosis if diag != '']\n",
        "\n",
        "list_of_diagnosis = []\n",
        "list_of_evidence = []\n",
        "for pair in pairs:\n",
        "  if '.' in pair[0]:\n",
        "      list_of_diagnosis.append(pair[0].split('. ')[1])\n",
        "  elif ':' in pair[0]:\n",
        "      list_of_diagnosis.append(pair[0].split(': ')[1])\n",
        "  else:\n",
        "      print('Issues with list?')\n",
        "  list_of_evidence.append(pair[1])\n",
        "\n",
        "print('Step 2: Creating a list of relevant codes using vector search')\n",
        "relevant_codes = ''\n",
        "for j, diagnosis in enumerate(list_of_diagnosis):\n",
        "  diag_description = ''\n",
        "  diag_description += str(j+1) + '. Condition: ' + diagnosis + '\\n'\n",
        "  diag_description += 'Evidence point: ' + list_of_evidence[j] +'\\n'\n",
        "\n",
        "  # semantic search (Vector store search)\n",
        "  result = vectorstore_from_docs.similarity_search_with_score(diag_description, k=10) #diag_description or diagnosis\n",
        "  data = pd.DataFrame([r[0].metadata for r in result])[['Code', 'Title']]\n",
        "\n",
        "  relevant_codes += diag_description\n",
        "\n",
        "  for k, row in data.iterrows():\n",
        "    relevant_codes += ' - ' + str(int(row['Code'])) + ': ' + row['Title'] + '\\n'\n",
        "\n",
        "  relevant_codes += '\\n\\n'\n",
        "\n",
        "print('Printing output:')\n",
        "print()\n",
        "print(relevant_codes)"
      ],
      "metadata": {
        "colab": {
          "base_uri": "https://localhost:8080/"
        },
        "id": "iX8-sG_Sgn6i",
        "outputId": "eed6cf8a-37e6-42f6-bee5-cede6a00ee80"
      },
      "execution_count": null,
      "outputs": [
        {
          "output_type": "stream",
          "name": "stdout",
          "text": [
            "Step 1: Creating the list of procedures\n",
            "Step 2: Creating a list of relevant codes using vector search\n",
            "Printing output:\n",
            "\n",
            "1. Condition: Midline suboccipital craniectomy with infratentorial-supracerebellar approach and microsurgical tumor decompression\n",
            "Evidence point: \"Midline suboccipital craniectomy, infratentorial-supracerebellar approach and microsurgical tumor decompression done under GA on 14.11.08.\"\n",
            " - 61521: Craniectomy for excision of brain tumor, infratentorial or posterior fossa; midline tumor at base of skull\n",
            " - 61458: Craniectomy, suboccipital; for exploration or decompression of cranial nerves\n",
            " - 61345: Other cranial decompression, posterior fossa\n",
            " - 61305: Craniectomy or craniotomy, exploratory; infratentorial (posterior fossa)\n",
            " - 61520: Craniectomy for excision of brain tumor, infratentorial or posterior fossa; cerebellopontine angle tumor\n",
            " - 61343: Craniectomy, suboccipital with cervical laminectomy for decompression of medulla and spinal cord, with or without dural graft (eg, Arnold-Chiari malformation)\n",
            " - 61518: Craniectomy for excision of brain tumor, infratentorial or posterior fossa; except meningioma, cerebellopontine angle tumor, or midline tumor at base of skull\n",
            " - 61519: Craniectomy for excision of brain tumor, infratentorial or posterior fossa; meningioma\n",
            " - 61526: Craniectomy, bone flap craniotomy, transtemporal (mastoid) for excision of cerebellopontine angle tumor;\n",
            " - 61530: Craniectomy, bone flap craniotomy, transtemporal (mastoid) for excision of cerebellopontine angle tumor; combined with middle/posterior fossa craniotomy/craniectomy\n",
            "\n",
            "\n",
            "2. Condition: Right parieto-occipital burrhole and external ventricular drain insertion\n",
            "Evidence point: \"Right parieto-occipital burrhole made and external ventricular drain inserted.\"\n",
            " - 61210: Burr hole(s); for implanting ventricular catheter, reservoir, EEG electrode(s), pressure recording device, or other cerebral monitoring device (separate procedure)\n",
            " - 61154: Burr hole(s) with evacuation and/or drainage of hematoma, extradural or subdural\n",
            " - 61150: Burr hole(s) or trephine; with drainage of brain abscess or cyst\n",
            " - 61120: Burr hole(s) for ventricular puncture (including injection of gas, contrast media, dye, or radioactive material)\n",
            " - 61253: Burr hole(s) or trephine, infratentorial, unilateral or bilateral\n",
            " - 61250: Burr hole(s) or trephine, supratentorial, exploratory, not followed by other surgery\n",
            " - 61151: Burr hole(s) or trephine; with subsequent tapping (aspiration) of intracranial abscess or cyst\n",
            " - 61108: Twist drill hole(s) for subdural, intracerebral, or ventricular puncture; for evacuation and/or drainage of subdural hematoma\n",
            " - 61156: Burr hole(s); with aspiration of hematoma or cyst, intracerebral\n",
            " - 61140: Burr hole(s) or trephine; with biopsy of brain or intracranial lesion\n",
            "\n",
            "\n",
            "3. Condition: Non-contrast computed tomography (NCCT) scan of the head\n",
            "Evidence point: \"NCCT head done on 15.11.08 ruled out any operative site haematoma with surgical changes and decrease in mass effect.\"\n",
            " - 61345: Other cranial decompression, posterior fossa\n",
            " - 61305: Craniectomy or craniotomy, exploratory; infratentorial (posterior fossa)\n",
            " - 62005: Elevation of depressed skull fracture; compound or comminuted, extradural\n",
            " - 61522: Craniectomy, infratentorial or posterior fossa; for excision of brain abscess\n",
            " - 61320: Craniectomy or craniotomy, drainage of intracranial abscess; supratentorial\n",
            " - 62000: Elevation of depressed skull fracture; simple, extradural\n",
            " - 61304: Craniectomy or craniotomy, exploratory; supratentorial\n",
            " - 61312: Craniectomy or craniotomy for evacuation of hematoma, supratentorial; extradural or subdural\n",
            " - 61314: Craniectomy or craniotomy for evacuation of hematoma, infratentorial; extradural or subdural\n",
            " - 61321: Craniectomy or craniotomy, drainage of intracranial abscess; infratentorial\n",
            "\n",
            "\n",
            "4. Condition: Right ventriculoperitoneal (VP) shunt placement\n",
            "Evidence point: \"Right VP shunt [Medium Pressure - Pudenz] done under done under GA on 01.01.2009.\"\n",
            " - 62223: Creation of shunt; ventriculo-peritoneal, -pleural, other terminus\n",
            " - 62220: Creation of shunt; ventriculo-atrial, -jugular, -auricular\n",
            " - 49425: Insertion of peritoneal-venous shunt\n",
            " - 63740: Creation of shunt, lumbar, subarachnoid-peritoneal, -pleural, or other; including laminectomy\n",
            " - 62258: Removal of complete cerebrospinal fluid shunt system; with replacement by similar or other shunt at same operation\n",
            " - 62192: Creation of shunt; subarachnoid/subdural-peritoneal, -pleural, other terminus\n",
            " - 49426: Revision of peritoneal-venous shunt\n",
            " - 62230: Replacement or revision of cerebrospinal fluid shunt, obstructed valve, or distal catheter in shunt system\n",
            " - 62190: Creation of shunt; subarachnoid/subdural-atrial, -jugular, -auricular\n",
            " - 62160: Neuroendoscopy, intracranial, for placement or replacement of ventricular catheter and attachment to shunt system or external drainage (List separately in No changeition to code for primary procedure)\n",
            "\n",
            "\n",
            "5. Condition: Intensity-modulated radiation therapy (IMRT)\n",
            "Evidence point: \"IMRT was started in consultation with Dr Shikha Haldhar (Consultant Radiation Oncology).\"\n",
            " - 49412: Placement of interstitial device(s) for radiation therapy guidance (eg, fiducial markers, dosimeter), open, intra-abdominal, intrapelvic, and/or retroperitoneum, including image guidance, if performed, single or multiple (List separately in No changeition to code for primary procedure)\n",
            " - 32553: Placement of interstitial device(s) for radiation therapy guidance (eg, fiducial markers, dosimeter), percutaneous, intrathoracic, single or multiple\n",
            " - 61737: Multiple-trajectory laser interstitial thermal therapy (LITT) of complex intracranial lesion, including burr hole\n",
            " - 61736: Single-trajectory laser interstitial thermal therapy (LITT) of 1 simple intracranial lesion, including burr hole, with magnetic resonance imaging guidance\n",
            " - 61770: Stereotactic localization, including burr hole(s), with insertion of catheter(s) or probe(s) for placement of radiation source\n",
            " - 69150: Radical excision external auditory canal lesion; without neck dissection  \n",
            " - 69155: Radical excision external auditory canal lesion; with neck dissection  \n",
            " - 61710: Surgery of aneurysm, vascular malformation or carotid-cavernous fistula; by intra-arterial embolization, injection procedure, or balloon catheter\n",
            " - 24516: Treatment of humeral shaft fracture, with insertion of intramedullary implant, with or without cerclage and/or locking screws\n",
            " - 38724: Cervical lymphadenectomy (modified radical neck dissection)  \n",
            "\n",
            "\n",
            "6. Condition: Subdural tap for fluid aspiration\n",
            "Evidence point: \"Subdural tap was done and around 150cc of fluid aspirated.\"\n",
            " - 61156: Burr hole(s); with aspiration of hematoma or cyst, intracerebral\n",
            " - 61151: Burr hole(s) or trephine; with subsequent tapping (aspiration) of intracranial abscess or cyst\n",
            " - 61154: Burr hole(s) with evacuation and/or drainage of hematoma, extradural or subdural\n",
            " - 61108: Twist drill hole(s) for subdural, intracerebral, or ventricular puncture; for evacuation and/or drainage of subdural hematoma\n",
            " - 63172: Laminectomy with drainage of intramedullary cyst/syrinx; to subarachnoid space\n",
            " - 61150: Burr hole(s) or trephine; with drainage of brain abscess or cyst\n",
            " - 63173: Laminectomy with drainage of intramedullary cyst/syrinx; to peritoneal or pleural space\n",
            " - 49040: Drainage of subdiaphragmatic or subphrenic abscess, open\n",
            " - 62194: Replacement or irrigation, subarachnoid/subdural catheter\n",
            " - 61750: Stereotactic biopsy, aspiration, or excision, including burr hole(s), for intracranial lesion\n",
            "\n",
            "\n",
            "7. Condition: Tracheostomy\n",
            "Evidence point: \"Dr. G. Raheja (Senior Consultant,ENT) was consulted who did tracheostomy on 23.03.2009.\"\n",
            " - 31367: Laryngectomy; subtotal supraglottic, without radical neck dissection  \n",
            " - 31368: Laryngectomy; subtotal supraglottic, with radical neck dissection  \n",
            " - 32120: Thoracotomy; for postoperative complications\n",
            " - 32151: Thoracotomy; with removal of intrapulmonary foreign body\n",
            " - 31365: Laryngectomy; total, with radical neck dissection  \n",
            " - 31360: Laryngectomy; total, without radical neck dissection  \n",
            " - 32442: Removal of lung, pneumonectomy; with resection of segment of trachea followed by broncho-tracheal anastomosis (sleeve pneumonectomy)\n",
            " - 31395: Pharyngolaryngectomy, with radical neck dissection; with reconstruction  \n",
            " - 41145: Glossectomy; complete or total, with or without tracheostomy, with unilateral radical neck dissection  \n",
            " - 32100: Thoracotomy; with exploration\n",
            "\n",
            "\n",
            "8. Condition: Contrast magnetic resonance imaging (MRI) of the brain\n",
            "Evidence point: \"Contrast MRI brain done on 16.12.08 revealed surgical changes with persistent ventriculomegaly.\"\n",
            " - 61345: Other cranial decompression, posterior fossa\n",
            " - 61305: Craniectomy or craniotomy, exploratory; infratentorial (posterior fossa)\n",
            " - 61682: Surgery of intracranial arteriovenous malformation; supratentorial, complex\n",
            " - 62161: Neuroendoscopy, intracranial; with dissection of adhesions, fenestration of septum pellucidum or intraventricular cysts (including placement, replacement, or removal of ventricular catheter)\n",
            " - 61522: Craniectomy, infratentorial or posterior fossa; for excision of brain abscess\n",
            " - 61686: Surgery of intracranial arteriovenous malformation; infratentorial, complex\n",
            " - 62180: Ventriculocisternostomy (Torkildsen type operation)\n",
            " - 62164: Neuroendoscopy, intracranial; with excision of brain tumor, including placement of external ventricular catheter for drainage\n",
            " - 62200: Ventriculocisternostomy, third ventricle;\n",
            " - 61340: Subtemporal cranial decompression (pseudotumor cerebri, slit ventricle syndrome)\n",
            "\n",
            "\n",
            "9. Condition: Ryle's tube feeding\n",
            "Evidence point: \"Ryle's tube feed with oral supplement\"\n",
            " - 44310: Ileostomy or jejunostomy, non-tube\n",
            " - 44300: Placement, enterostomy or cecostomy, tube open (eg, for feeding or decompression) (separate procedure)\n",
            " - 47741: Cholecystoenterostomy; Roux-en-Y with gastroenterostomy \n",
            " - 44186: Laparoscopy, surgical; jejunostomy (eg, for decompression or feeding)\n",
            " - 47740: Cholecystoenterostomy; Roux-en-Y \n",
            " - 44021: Enterotomy, small intestine, other than duodenum; for decompression (eg, Baker tube)\n",
            " - 48540: Internal anastomosis of pancreatic cyst to gastrointestinal tract; Roux-en-Y \n",
            " - 48001: Placement of drains, peripancreatic, for acute pancreatitis; with cholecystostomy, gastrostomy, and jejunostomy \n",
            " - 44187: Laparoscopy, surgical; ileostomy or jejunostomy, non-tube\n",
            " - 47720: Cholecystoenterostomy; direct \n",
            "\n",
            "\n",
            "10. Condition: Physiotherapy and mobilization\n",
            "Evidence point: \"Physiotherapy and mobilisation as advised\"\n",
            " - 24586: Open treatment of periarticular fracture and/or dislocation of the elbow (fracture distal humerus and proximal ulna and/or proximal radius);\n",
            " - 27236: Open treatment of femoral fracture, proximal end, neck, internal fixation or prosthetic replacement\n",
            " - 27536: Open treatment of tibial fracture, proximal (plateau); bicondylar, with or without internal fixation\n",
            " - 32100: Thoracotomy; with exploration\n",
            " - 27178: Open treatment of slipped femoral epiphysis; closed manipulation with single or multiple pinning\n",
            " - 27447: Arthroplasty, knee, condyle and plateau; medial AND lateral compartments with or without patella resurfacing (total knee arthroplasty)\n",
            " - 27442: Arthroplasty, femoral condyles or tibial plateau(s), knee\n",
            " - 24579: Open treatment of humeral condylar fracture, medial or lateral, includes internal fixation, when performed\n",
            " - 24575: Open treatment of humeral epicondylar fracture, medial or lateral, includes internal fixation, when performed\n",
            " - 63200: Laminectomy, with release of tethered spinal cord, lumbar\n",
            "\n",
            "\n",
            "\n"
          ]
        }
      ]
    },
    {
      "cell_type": "code",
      "source": [],
      "metadata": {
        "id": "5_7c7p5qn6ga"
      },
      "execution_count": null,
      "outputs": []
    }
  ]
}